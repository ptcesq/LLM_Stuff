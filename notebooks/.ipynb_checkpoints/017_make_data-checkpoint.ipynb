{
 "cells": [
  {
   "cell_type": "markdown",
   "id": "eb620b01",
   "metadata": {},
   "source": [
    "# Sample Notebook \n",
    ".  In this notebook we are going to generate a data set X,y which is modeled with gaussian error.  The model will be y = MX + B + e where y is is an array of y corrdinate, X is an array of X coordinate, B is the y intercept for the model and e is the error for each point.  "
   ]
  },
  {
   "cell_type": "code",
   "execution_count": null,
   "id": "2fb68024",
   "metadata": {},
   "outputs": [],
   "source": [
    "# Load our libraries \n",
    "import pandas as pd \n",
    "import numpy as np\n",
    "import random "
   ]
  },
  {
   "cell_type": "code",
   "execution_count": null,
   "id": "592dfd9c",
   "metadata": {},
   "outputs": [],
   "source": [
    "# Generate the X coordinates \n",
    "X = list(range(100))\n",
    "print(X[:10]) \n",
    "# X = pd.series(X) "
   ]
  },
  {
   "cell_type": "code",
   "execution_count": null,
   "id": "3064e314",
   "metadata": {},
   "outputs": [],
   "source": [
    "# set the y intercept\n",
    "B= np.full(100, 3)\n",
    "print(B[:10]) \n",
    "# B = pd.series(B)"
   ]
  },
  {
   "cell_type": "code",
   "execution_count": null,
   "id": "2cb41cc6",
   "metadata": {},
   "outputs": [],
   "source": [
    "# create the error array \n",
    "mu, sigma = 0, 35 # mean and standard deviation\n",
    "e = np.random.normal(mu, sigma, 100)\n",
    "print(e[:10]) "
   ]
  },
  {
   "cell_type": "code",
   "execution_count": null,
   "id": "11df1226",
   "metadata": {},
   "outputs": [],
   "source": [
    "M = np.full(100, 2.5)\n",
    "print(M[:10]) "
   ]
  },
  {
   "cell_type": "code",
   "execution_count": null,
   "id": "d1baa1b7",
   "metadata": {},
   "outputs": [],
   "source": [
    "# create df with independent values\n",
    "frame = {'M': M, \n",
    "         'X': X, \n",
    "         'B': B, \n",
    "         'e': e}\n",
    "df = pd.DataFrame(frame) \n",
    "df.head()"
   ]
  },
  {
   "cell_type": "code",
   "execution_count": null,
   "id": "ebe0bd82",
   "metadata": {},
   "outputs": [],
   "source": [
    "df['y'] = (df['X'] * df['M']) + df['B'] + df['e']\n",
    "df.head()"
   ]
  },
  {
   "cell_type": "code",
   "execution_count": null,
   "id": "15543bde",
   "metadata": {},
   "outputs": [],
   "source": [
    "df.tail()"
   ]
  },
  {
   "cell_type": "code",
   "execution_count": null,
   "id": "159b4f30",
   "metadata": {},
   "outputs": [],
   "source": [
    "import matplotlib.pyplot as plt \n",
    "plt.scatter(df['X'], df['y'])\n",
    "plt.show()"
   ]
  },
  {
   "cell_type": "code",
   "execution_count": null,
   "id": "07a060c1",
   "metadata": {},
   "outputs": [],
   "source": [
    "fileOut = './../data/sample_data.csv'\n",
    "df.to_csv(fileOut, index=False)"
   ]
  }
 ],
 "metadata": {
  "kernelspec": {
   "display_name": "Python 3",
   "language": "python",
   "name": "python3"
  },
  "language_info": {
   "codemirror_mode": {
    "name": "ipython",
    "version": 3
   },
   "file_extension": ".py",
   "mimetype": "text/x-python",
   "name": "python",
   "nbconvert_exporter": "python",
   "pygments_lexer": "ipython3",
   "version": "3.6.9"
  }
 },
 "nbformat": 4,
 "nbformat_minor": 5
}

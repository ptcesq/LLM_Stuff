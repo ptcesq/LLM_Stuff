{
 "cells": [
  {
   "cell_type": "markdown",
   "id": "616a907c",
   "metadata": {},
   "source": [
    "# Sample Notebook \n",
    ".  In this notebook we are going to generate a data set X,y which is modeled with gaussian error.  The model will be y = MX + B + e where y is is an array of y corrdinate, X is an array of X coordinate, B is the y intercept for the model and e is the error for each point.  "
   ]
  },
  {
   "cell_type": "code",
   "execution_count": 2,
   "id": "e5bb8f9a",
   "metadata": {},
   "outputs": [],
   "source": [
    "# Load our libraries \n",
    "import pandas as pd \n",
    "import numpy as np\n",
    "import random "
   ]
  },
  {
   "cell_type": "code",
   "execution_count": 6,
   "id": "0e1c1745",
   "metadata": {},
   "outputs": [
    {
     "data": {
      "text/plain": [
       "[0, 1, 2, 3, 4, 5, 6, 7, 8, 9]"
      ]
     },
     "execution_count": 6,
     "metadata": {},
     "output_type": "execute_result"
    }
   ],
   "source": [
    "# Generate the X coordinates \n",
    "X = list(range(100))\n",
    "print(X[:10]) \n",
    "X = pd.series(X) "
   ]
  },
  {
   "cell_type": "code",
   "execution_count": 17,
   "id": "8e178174",
   "metadata": {},
   "outputs": [
    {
     "data": {
      "text/plain": [
       "array([3, 3, 3, 3, 3, 3, 3, 3, 3, 3])"
      ]
     },
     "execution_count": 17,
     "metadata": {},
     "output_type": "execute_result"
    }
   ],
   "source": [
    "# set the y intercept\n",
    "B= np.full(100, 3)\n",
    "print(B[:10]) \n",
    "B = pd.series(B)"
   ]
  },
  {
   "cell_type": "code",
   "execution_count": 9,
   "id": "3be8e498",
   "metadata": {},
   "outputs": [
    {
     "data": {
      "text/plain": [
       "array([15.98203991, 11.53833913, -8.77332978, -5.47293642,  1.95151774,\n",
       "       -2.74887989,  3.71309101,  7.87963247, -0.03498804,  1.86187011])"
      ]
     },
     "execution_count": 9,
     "metadata": {},
     "output_type": "execute_result"
    }
   ],
   "source": [
    "# create the error array \n",
    "mu, sigma = 0, 10 # mean and standard deviation\n",
    "e = np.random.normal(mu, sigma, 100)\n",
    "print(e[:10]) \n",
    "e = pd.series(e)"
   ]
  },
  {
   "cell_type": "code",
   "execution_count": 11,
   "id": "f0a07d9d",
   "metadata": {},
   "outputs": [],
   "source": [
    "# define the slope \n",
    "M = 2.5"
   ]
  },
  {
   "cell_type": "code",
   "execution_count": 16,
   "id": "22d3c2fd",
   "metadata": {},
   "outputs": [
    {
     "data": {
      "text/plain": [
       "array([2.5, 2.5, 2.5, 2.5, 2.5, 2.5, 2.5, 2.5, 2.5, 2.5])"
      ]
     },
     "execution_count": 16,
     "metadata": {},
     "output_type": "execute_result"
    }
   ],
   "source": [
    "M = np.full(100, 2.5)\n",
    "print(M[:10]) \n",
    "M = pd.series(M)"
   ]
  },
  {
   "cell_type": "code",
   "execution_count": 20,
   "id": "159fa4eb",
   "metadata": {},
   "outputs": [
    {
     "data": {
      "text/html": [
       "<div>\n",
       "<style scoped>\n",
       "    .dataframe tbody tr th:only-of-type {\n",
       "        vertical-align: middle;\n",
       "    }\n",
       "\n",
       "    .dataframe tbody tr th {\n",
       "        vertical-align: top;\n",
       "    }\n",
       "\n",
       "    .dataframe thead th {\n",
       "        text-align: right;\n",
       "    }\n",
       "</style>\n",
       "<table border=\"1\" class=\"dataframe\">\n",
       "  <thead>\n",
       "    <tr style=\"text-align: right;\">\n",
       "      <th></th>\n",
       "      <th>M</th>\n",
       "      <th>X</th>\n",
       "      <th>B</th>\n",
       "      <th>e</th>\n",
       "    </tr>\n",
       "  </thead>\n",
       "  <tbody>\n",
       "    <tr>\n",
       "      <th>0</th>\n",
       "      <td>2.5</td>\n",
       "      <td>0</td>\n",
       "      <td>3</td>\n",
       "      <td>15.982040</td>\n",
       "    </tr>\n",
       "    <tr>\n",
       "      <th>1</th>\n",
       "      <td>2.5</td>\n",
       "      <td>1</td>\n",
       "      <td>3</td>\n",
       "      <td>11.538339</td>\n",
       "    </tr>\n",
       "    <tr>\n",
       "      <th>2</th>\n",
       "      <td>2.5</td>\n",
       "      <td>2</td>\n",
       "      <td>3</td>\n",
       "      <td>-8.773330</td>\n",
       "    </tr>\n",
       "    <tr>\n",
       "      <th>3</th>\n",
       "      <td>2.5</td>\n",
       "      <td>3</td>\n",
       "      <td>3</td>\n",
       "      <td>-5.472936</td>\n",
       "    </tr>\n",
       "    <tr>\n",
       "      <th>4</th>\n",
       "      <td>2.5</td>\n",
       "      <td>4</td>\n",
       "      <td>3</td>\n",
       "      <td>1.951518</td>\n",
       "    </tr>\n",
       "  </tbody>\n",
       "</table>\n",
       "</div>"
      ],
      "text/plain": [
       "     M  X  B          e\n",
       "0  2.5  0  3  15.982040\n",
       "1  2.5  1  3  11.538339\n",
       "2  2.5  2  3  -8.773330\n",
       "3  2.5  3  3  -5.472936\n",
       "4  2.5  4  3   1.951518"
      ]
     },
     "execution_count": 20,
     "metadata": {},
     "output_type": "execute_result"
    }
   ],
   "source": [
    "# create df with independent values\n",
    "frame = {'M': M, \n",
    "         'X': X, \n",
    "         'B': B, \n",
    "         'e': e}\n",
    "df = pd.DataFrame(frame) \n",
    "df.head()"
   ]
  },
  {
   "cell_type": "code",
   "execution_count": 21,
   "id": "2d211ecc",
   "metadata": {},
   "outputs": [
    {
     "data": {
      "text/html": [
       "<div>\n",
       "<style scoped>\n",
       "    .dataframe tbody tr th:only-of-type {\n",
       "        vertical-align: middle;\n",
       "    }\n",
       "\n",
       "    .dataframe tbody tr th {\n",
       "        vertical-align: top;\n",
       "    }\n",
       "\n",
       "    .dataframe thead th {\n",
       "        text-align: right;\n",
       "    }\n",
       "</style>\n",
       "<table border=\"1\" class=\"dataframe\">\n",
       "  <thead>\n",
       "    <tr style=\"text-align: right;\">\n",
       "      <th></th>\n",
       "      <th>M</th>\n",
       "      <th>X</th>\n",
       "      <th>B</th>\n",
       "      <th>e</th>\n",
       "      <th>y</th>\n",
       "    </tr>\n",
       "  </thead>\n",
       "  <tbody>\n",
       "    <tr>\n",
       "      <th>0</th>\n",
       "      <td>2.5</td>\n",
       "      <td>0</td>\n",
       "      <td>3</td>\n",
       "      <td>15.982040</td>\n",
       "      <td>18.982040</td>\n",
       "    </tr>\n",
       "    <tr>\n",
       "      <th>1</th>\n",
       "      <td>2.5</td>\n",
       "      <td>1</td>\n",
       "      <td>3</td>\n",
       "      <td>11.538339</td>\n",
       "      <td>15.538339</td>\n",
       "    </tr>\n",
       "    <tr>\n",
       "      <th>2</th>\n",
       "      <td>2.5</td>\n",
       "      <td>2</td>\n",
       "      <td>3</td>\n",
       "      <td>-8.773330</td>\n",
       "      <td>-1.773330</td>\n",
       "    </tr>\n",
       "    <tr>\n",
       "      <th>3</th>\n",
       "      <td>2.5</td>\n",
       "      <td>3</td>\n",
       "      <td>3</td>\n",
       "      <td>-5.472936</td>\n",
       "      <td>6.527064</td>\n",
       "    </tr>\n",
       "    <tr>\n",
       "      <th>4</th>\n",
       "      <td>2.5</td>\n",
       "      <td>4</td>\n",
       "      <td>3</td>\n",
       "      <td>1.951518</td>\n",
       "      <td>20.951518</td>\n",
       "    </tr>\n",
       "  </tbody>\n",
       "</table>\n",
       "</div>"
      ],
      "text/plain": [
       "     M  X  B          e          y\n",
       "0  2.5  0  3  15.982040  18.982040\n",
       "1  2.5  1  3  11.538339  15.538339\n",
       "2  2.5  2  3  -8.773330  -1.773330\n",
       "3  2.5  3  3  -5.472936   6.527064\n",
       "4  2.5  4  3   1.951518  20.951518"
      ]
     },
     "execution_count": 21,
     "metadata": {},
     "output_type": "execute_result"
    }
   ],
   "source": [
    "df['y'] = df['X'] * df['X'] + df['B'] + df['e']\n",
    "df.head()"
   ]
  },
  {
   "cell_type": "code",
   "execution_count": 23,
   "id": "02f6a095",
   "metadata": {},
   "outputs": [
    {
     "name": "stdout",
     "output_type": "stream",
     "text": [
      "Collecting seaborn\n",
      "  Downloading https://files.pythonhosted.org/packages/10/5b/0479d7d845b5ba410ca702ffcd7f2cd95a14a4dfff1fde2637802b258b9b/seaborn-0.11.2-py3-none-any.whl (292kB)\n",
      "\u001b[K    100% |################################| 296kB 1.6MB/s eta 0:00:01\n",
      "\u001b[?25hRequirement already satisfied: scipy>=1.0 in /usr/local/lib/python3.6/dist-packages (from seaborn)\n",
      "Requirement already satisfied: pandas>=0.23 in /usr/local/lib/python3.6/dist-packages (from seaborn)\n",
      "Requirement already satisfied: numpy>=1.15 in /usr/local/lib/python3.6/dist-packages (from seaborn)\n",
      "Collecting matplotlib>=2.2 (from seaborn)\n",
      "  Downloading https://files.pythonhosted.org/packages/22/d4/e7ca532e68a9357742604e1e4ae35d9c09a4a810de39a9d80402bd12f50f/matplotlib-3.3.4.tar.gz (37.9MB)\n",
      "\u001b[K    100% |################################| 37.9MB 13kB/s  eta 0:00:01   14% |####                            | 5.4MB 16.1MB/s eta 0:00:03    20% |######                          | 7.8MB 16.7MB/s eta 0:00:02    22% |#######                         | 8.7MB 18.2MB/s eta 0:00:02    28% |########                        | 10.6MB 14.4MB/s eta 0:00:02    58% |##################              | 22.1MB 13.0MB/s eta 0:00:02\n",
      "\u001b[?25hRequirement already satisfied: python-dateutil>=2.7.3 in /usr/local/lib/python3.6/dist-packages (from pandas>=0.23->seaborn)\n",
      "Requirement already satisfied: pytz>=2017.2 in /usr/lib/python3/dist-packages (from pandas>=0.23->seaborn)\n",
      "Requirement already satisfied: cycler>=0.10 in /usr/lib/python3/dist-packages (from matplotlib>=2.2->seaborn)\n",
      "Collecting kiwisolver>=1.0.1 (from matplotlib>=2.2->seaborn)\n",
      "  Downloading https://files.pythonhosted.org/packages/90/55/399ab9f2e171047d28933ae4b686d9382d17e6c09a01bead4a6f6b5038f4/kiwisolver-1.3.1.tar.gz (53kB)\n",
      "\u001b[K    100% |################################| 61kB 4.0MB/s eta 0:00:01\n",
      "\u001b[?25hRequirement already satisfied: pillow>=6.2.0 in /usr/local/lib/python3.6/dist-packages/Pillow-9.0.1-py3.6-linux-aarch64.egg (from matplotlib>=2.2->seaborn)\n",
      "\u001b[31mPillow requires Python '>=3.7' but the running Python is 3.6.9\u001b[0m\n"
     ]
    }
   ],
   "source": [
    "!pip3 install seaborn "
   ]
  },
  {
   "cell_type": "code",
   "execution_count": 26,
   "id": "4644cfa7",
   "metadata": {},
   "outputs": [
    {
     "data": {
      "text/plain": [
       "<matplotlib.collections.PathCollection at 0x7f666ecef0>"
      ]
     },
     "execution_count": 26,
     "metadata": {},
     "output_type": "execute_result"
    },
    {
     "data": {
      "image/png": "[encoded data removed]",
      "text/plain": [
       "<matplotlib.figure.Figure at 0x7f66710438>"
      ]
     },
     "metadata": {
      "needs_background": "light"
     },
     "output_type": "display_data"
    }
   ],
   "source": [
    "import matplotlib.pyplot as plt \n",
    "plt.scatter(df['X'], df['y'])"
   ]
  }
 ],
 "metadata": {
  "kernelspec": {
   "display_name": "Python 3",
   "language": "python",
   "name": "python3"
  },
  "language_info": {
   "codemirror_mode": {
    "name": "ipython",
    "version": 3
   },
   "file_extension": ".py",
   "mimetype": "text/x-python",
   "name": "python",
   "nbconvert_exporter": "python",
   "pygments_lexer": "ipython3",
   "version": "3.6.9"
  }
 },
 "nbformat": 4,
 "nbformat_minor": 5
}

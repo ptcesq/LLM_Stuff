{
 "cells": [
  {
   "cell_type": "code",
   "execution_count": 1,
   "id": "723ebbc9",
   "metadata": {},
   "outputs": [],
   "source": [
    "import torch as tr "
   ]
  },
  {
   "cell_type": "code",
   "execution_count": 2,
   "id": "25b52b13",
   "metadata": {},
   "outputs": [
    {
     "name": "stdout",
     "output_type": "stream",
     "text": [
      "Cuda Version:  1.10.0 \n",
      "\n"
     ]
    }
   ],
   "source": [
    "# Check cuda version \n",
    "cuda_version = tr.__version__\n",
    "print(\"Cuda Version: \", cuda_version, '\\n')"
   ]
  },
  {
   "cell_type": "code",
   "execution_count": 3,
   "id": "8b482418",
   "metadata": {},
   "outputs": [
    {
     "name": "stdout",
     "output_type": "stream",
     "text": [
      "Cuda is Available:  True \n",
      "\n"
     ]
    }
   ],
   "source": [
    "# ee if we have a cuda device \n",
    "cuda_available = tr.cuda.is_available()\n",
    "print(\"Cuda is Available: \", cuda_available, '\\n')"
   ]
  },
  {
   "cell_type": "code",
   "execution_count": 4,
   "id": "5b772d6e",
   "metadata": {},
   "outputs": [
    {
     "name": "stdout",
     "output_type": "stream",
     "text": [
      "Device Count:  1 \n",
      "\n"
     ]
    }
   ],
   "source": [
    "# get the cuda count \n",
    "cuda_count = tr.cuda.device_count()\n",
    "print(\"Device Count: \", cuda_count, '\\n')"
   ]
  },
  {
   "cell_type": "code",
   "execution_count": 5,
   "id": "d59a15ba",
   "metadata": {},
   "outputs": [
    {
     "name": "stdout",
     "output_type": "stream",
     "text": [
      "Current Device:  0 \n",
      "\n"
     ]
    }
   ],
   "source": [
    "# get the current device \n",
    "current_device = tr.cuda.current_device()\n",
    "print(\"Current Device: \", current_device, '\\n')"
   ]
  },
  {
   "cell_type": "code",
   "execution_count": 6,
   "id": "dc666165",
   "metadata": {},
   "outputs": [
    {
     "name": "stdout",
     "output_type": "stream",
     "text": [
      "Current Device Name:  NVIDIA Tegra X1 \n",
      "\n"
     ]
    }
   ],
   "source": [
    "# print the name of the current name \n",
    "current_device_name = tr.cuda.get_device_name(0) \n",
    "print(\"Current Device Name: \", current_device_name, '\\n') "
   ]
  },
  {
   "cell_type": "code",
   "execution_count": 7,
   "id": "7e0e8c2e",
   "metadata": {},
   "outputs": [
    {
     "name": "stdout",
     "output_type": "stream",
     "text": [
      "tensor([[0.2712, 0.5528, 0.9586, 0.2927],\n",
      "        [0.1147, 0.2258, 0.4390, 0.4953],\n",
      "        [0.8323, 0.4265, 0.8534, 0.6361],\n",
      "        [0.8584, 0.2078, 0.6409, 0.3643],\n",
      "        [0.6809, 0.5456, 0.1957, 0.1873]])\n",
      "\n",
      "\n"
     ]
    }
   ],
   "source": [
    "print(tr.rand(5,4))\n",
    "print('\\n') "
   ]
  },
  {
   "cell_type": "code",
   "execution_count": 8,
   "id": "6b811ca0",
   "metadata": {},
   "outputs": [
    {
     "name": "stdout",
     "output_type": "stream",
     "text": [
      "tensor([1.4142])\n",
      "\n",
      "\n"
     ]
    }
   ],
   "source": [
    "print(tr.hypot(tr.tensor([1.]), tr.tensor([1.])))\n",
    "print('\\n') "
   ]
  }
 ],
 "metadata": {
  "kernelspec": {
   "display_name": "Python 3",
   "language": "python",
   "name": "python3"
  },
  "language_info": {
   "codemirror_mode": {
    "name": "ipython",
    "version": 3
   },
   "file_extension": ".py",
   "mimetype": "text/x-python",
   "name": "python",
   "nbconvert_exporter": "python",
   "pygments_lexer": "ipython3",
   "version": "3.6.9"
  }
 },
 "nbformat": 4,
 "nbformat_minor": 5
}

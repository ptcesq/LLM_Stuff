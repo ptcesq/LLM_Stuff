{
 "cells": [
  {
   "cell_type": "code",
   "execution_count": 1,
   "metadata": {},
   "outputs": [],
   "source": [
    "# inport libraries \n",
    "from PyPDF2 import PdfReader"
   ]
  },
  {
   "cell_type": "code",
   "execution_count": 2,
   "metadata": {},
   "outputs": [
    {
     "ename": "NameError",
     "evalue": "name 'outputFile' is not defined",
     "output_type": "error",
     "traceback": [
      "\u001b[1;31m---------------------------------------------------------------------------\u001b[0m",
      "\u001b[1;31mNameError\u001b[0m                                 Traceback (most recent call last)",
      "Cell \u001b[1;32mIn[2], line 2\u001b[0m\n\u001b[0;32m      1\u001b[0m \u001b[39m# Open file, extract Text and write to a new file \u001b[39;00m\n\u001b[1;32m----> 2\u001b[0m file1\u001b[39m=\u001b[39m\u001b[39mopen\u001b[39m(outputFile,\u001b[39m\"\u001b[39m\u001b[39mw\u001b[39m\u001b[39m\"\u001b[39m)\n\u001b[0;32m      3\u001b[0m reader \u001b[39m=\u001b[39m PdfReader(inputFile)\n\u001b[0;32m      4\u001b[0m \u001b[39mfor\u001b[39;00m i \u001b[39min\u001b[39;00m \u001b[39mrange\u001b[39m(x):\n",
      "\u001b[1;31mNameError\u001b[0m: name 'outputFile' is not defined"
     ]
    }
   ],
   "source": [
    "\n",
    "# Open file, extract Text and write to a new file \n",
    "file1=open(outputFile,\"w\")\n",
    "reader = PdfReader(inputFile)\n",
    "for i in range(x):\n",
    "    page = reader.pages[0]\n",
    "    text = page.extract_text()\n",
    "    file1.writelines(text) \n",
    "\n",
    "file1.close() "
   ]
  },
  {
   "cell_type": "code",
   "execution_count": 3,
   "metadata": {},
   "outputs": [
    {
     "name": "stdout",
     "output_type": "stream",
     "text": [
      "['a-2_3-22.pdf', 'a_16_22.pdf', 'a_19_22.pdf', 'a_21_22.pdf', 'a_28_21.pdf', 'a_34_21.pdf', 'a_45_21.pdf', 'a_47_21.pdf', 'a_49_21.pdf', 'a_4_5_22.pdf', 'a_50_21.pdf', 'a_58_59_60-21.pdf', 'a_61_21_a_7_22.pdf', 'a_63_21.pdf', 'a_67_21.pdf', 'a_6_22.pdf', 'a_8_22.pdf', 'a_9_22.pdf', 'a-2_3-22.txt', 'a-2_3-22.txt', 'a_16_22.txt', 'a_19_22.txt', 'a_21_22.txt', 'a_28_21.txt', 'a_34_21.txt', 'a_45_21.txt', 'a_47_21.txt', 'a_49_21.txt', 'a_4_5_22.txt']\n"
     ]
    }
   ],
   "source": [
    "# Get a list of target files \n",
    "\n",
    "import os\n",
    "dir_path = \"Z:\\\\Projects\\\\ChatGPT\\\\data\\\\NJS\"\n",
    "\n",
    "# list to store files name\n",
    "res = []\n",
    "for (dir_path, dir_names, file_names) in os.walk(dir_path):\n",
    "    res.extend(file_names)\n",
    "print(res)"
   ]
  },
  {
   "cell_type": "code",
   "execution_count": 5,
   "metadata": {},
   "outputs": [
    {
     "name": "stdout",
     "output_type": "stream",
     "text": [
      "['a-2_3-22.pdf', 'a_16_22.pdf', 'a_19_22.pdf', 'a_21_22.pdf', 'a_28_21.pdf', 'a_34_21.pdf', 'a_45_21.pdf', 'a_47_21.pdf', 'a_49_21.pdf', 'a_4_5_22.pdf', 'a_50_21.pdf', 'a_58_59_60-21.pdf', 'a_61_21_a_7_22.pdf', 'a_63_21.pdf', 'a_67_21.pdf', 'a_6_22.pdf', 'a_8_22.pdf', 'a_9_22.pdf', 'a-2_3-22.pdf', 'a-2_3-22.pdf', 'a_16_22.pdf', 'a_19_22.pdf', 'a_21_22.pdf', 'a_28_21.pdf', 'a_34_21.pdf', 'a_45_21.pdf', 'a_47_21.pdf', 'a_49_21.pdf', 'a_4_5_22.pdf']\n"
     ]
    }
   ],
   "source": [
    "res2 = []\n",
    "for file_name in res:\n",
    "    corrected_file_name = file_name.replace(\".txt\", \".pdf\")\n",
    "    res2.append(corrected_file_name)\n",
    "print(res2) \n"
   ]
  },
  {
   "cell_type": "code",
   "execution_count": 64,
   "metadata": {},
   "outputs": [
    {
     "name": "stdout",
     "output_type": "stream",
     "text": [
      "20\n"
     ]
    }
   ],
   "source": [
    "# create a processing list \n",
    "dir_path = \"Z:\\\\Projects\\\\ChatGPT\\\\data\\\\NJS\"\n",
    "input_list = []\n",
    "output_list = [] \n",
    "file_count = 0 \n",
    "for name in res: \n",
    "    input_token = dir_path + '\\\\' + name\n",
    "    input_list.append(input_token)\n",
    "    output_token = dir_path + '\\\\text_data\\\\' + name.replace('.pdf', '.txt')\n",
    "    output_list.append(output_token)\n",
    "    file_count = file_count + 1 \n",
    "\n",
    "print(file_count)\n",
    "\n",
    "\n",
    "   \n"
   ]
  },
  {
   "cell_type": "code",
   "execution_count": 65,
   "metadata": {},
   "outputs": [
    {
     "name": "stdout",
     "output_type": "stream",
     "text": [
      "['Z:\\\\Projects\\\\ChatGPT\\\\data\\\\NJS\\\\a-2_3-22.pdf', 'Z:\\\\Projects\\\\ChatGPT\\\\data\\\\NJS\\\\a_16_22.pdf', 'Z:\\\\Projects\\\\ChatGPT\\\\data\\\\NJS\\\\a_19_22.pdf', 'Z:\\\\Projects\\\\ChatGPT\\\\data\\\\NJS\\\\a_21_22.pdf', 'Z:\\\\Projects\\\\ChatGPT\\\\data\\\\NJS\\\\a_28_21.pdf', 'Z:\\\\Projects\\\\ChatGPT\\\\data\\\\NJS\\\\a_34_21.pdf', 'Z:\\\\Projects\\\\ChatGPT\\\\data\\\\NJS\\\\a_45_21.pdf', 'Z:\\\\Projects\\\\ChatGPT\\\\data\\\\NJS\\\\a_47_21.pdf', 'Z:\\\\Projects\\\\ChatGPT\\\\data\\\\NJS\\\\a_49_21.pdf', 'Z:\\\\Projects\\\\ChatGPT\\\\data\\\\NJS\\\\a_4_5_22.pdf', 'Z:\\\\Projects\\\\ChatGPT\\\\data\\\\NJS\\\\a_4_5_22.txt', 'Z:\\\\Projects\\\\ChatGPT\\\\data\\\\NJS\\\\a_50_21.pdf', 'Z:\\\\Projects\\\\ChatGPT\\\\data\\\\NJS\\\\a_58_59_60-21.pdf', 'Z:\\\\Projects\\\\ChatGPT\\\\data\\\\NJS\\\\a_61_21_a_7_22.pdf', 'Z:\\\\Projects\\\\ChatGPT\\\\data\\\\NJS\\\\a_63_21.pdf', 'Z:\\\\Projects\\\\ChatGPT\\\\data\\\\NJS\\\\a_67_21.pdf', 'Z:\\\\Projects\\\\ChatGPT\\\\data\\\\NJS\\\\a_6_22.pdf', 'Z:\\\\Projects\\\\ChatGPT\\\\data\\\\NJS\\\\a_8_22.pdf', 'Z:\\\\Projects\\\\ChatGPT\\\\data\\\\NJS\\\\a_9_22.pdf', 'Z:\\\\Projects\\\\ChatGPT\\\\data\\\\NJS\\\\a_4_5_22.txt']\n"
     ]
    }
   ],
   "source": [
    "print(input_list)"
   ]
  },
  {
   "cell_type": "code",
   "execution_count": 66,
   "metadata": {},
   "outputs": [],
   "source": [
    "# a function to open file, extract Text and write to a new file\n",
    "\n",
    "def process_file(inputFile, outputFile, current_i):\n",
    "    print(outputFile)\n",
    "    file1=open(outputFile,\"w\")\n",
    "    reader = PdfReader(inputFile)\n",
    "    print(\"processing: \", current_i)\n",
    "    for i in range(x):\n",
    "        page = reader.pages[0]\n",
    "        text = page.extract_text()\n",
    "        file1.writelines(text)\n",
    "    file1.close() "
   ]
  },
  {
   "cell_type": "code",
   "execution_count": 67,
   "metadata": {},
   "outputs": [
    {
     "name": "stdout",
     "output_type": "stream",
     "text": [
      "Z:\\Projects\\ChatGPT\\data\\NJS\\text_data\\a-2_3-22.txt\n",
      "processing:  0\n",
      "Z:\\Projects\\ChatGPT\\data\\NJS\\text_data\\a_16_22.txt\n",
      "processing:  1\n",
      "Z:\\Projects\\ChatGPT\\data\\NJS\\text_data\\a_19_22.txt\n",
      "processing:  2\n",
      "Z:\\Projects\\ChatGPT\\data\\NJS\\text_data\\a_21_22.txt\n",
      "processing:  3\n",
      "Z:\\Projects\\ChatGPT\\data\\NJS\\text_data\\a_28_21.txt\n",
      "processing:  4\n",
      "Z:\\Projects\\ChatGPT\\data\\NJS\\text_data\\a_34_21.txt\n",
      "processing:  5\n",
      "Z:\\Projects\\ChatGPT\\data\\NJS\\text_data\\a_45_21.txt\n",
      "processing:  6\n",
      "Z:\\Projects\\ChatGPT\\data\\NJS\\text_data\\a_47_21.txt\n",
      "processing:  7\n",
      "Z:\\Projects\\ChatGPT\\data\\NJS\\text_data\\a_49_21.txt\n",
      "processing:  8\n",
      "Z:\\Projects\\ChatGPT\\data\\NJS\\text_data\\a_4_5_22.txt\n",
      "processing:  9\n",
      "Z:\\Projects\\ChatGPT\\data\\NJS\\text_data\\a_4_5_22.txt\n"
     ]
    },
    {
     "ename": "FileNotFoundError",
     "evalue": "[Errno 2] No such file or directory: 'Z:\\\\Projects\\\\ChatGPT\\\\data\\\\NJS\\\\a_4_5_22.txt'",
     "output_type": "error",
     "traceback": [
      "\u001b[1;31m---------------------------------------------------------------------------\u001b[0m",
      "\u001b[1;31mFileNotFoundError\u001b[0m                         Traceback (most recent call last)",
      "Cell \u001b[1;32mIn[67], line 4\u001b[0m\n\u001b[0;32m      2\u001b[0m inputFile \u001b[39m=\u001b[39m input_list[i]\n\u001b[0;32m      3\u001b[0m outputFile \u001b[39m=\u001b[39m output_list[i]\n\u001b[1;32m----> 4\u001b[0m process_file(inputFile, outputFile, i)\n",
      "Cell \u001b[1;32mIn[66], line 6\u001b[0m, in \u001b[0;36mprocess_file\u001b[1;34m(inputFile, outputFile, current_i)\u001b[0m\n\u001b[0;32m      4\u001b[0m \u001b[39mprint\u001b[39m(outputFile)\n\u001b[0;32m      5\u001b[0m file1\u001b[39m=\u001b[39m\u001b[39mopen\u001b[39m(outputFile,\u001b[39m\"\u001b[39m\u001b[39mw\u001b[39m\u001b[39m\"\u001b[39m)\n\u001b[1;32m----> 6\u001b[0m reader \u001b[39m=\u001b[39m PdfReader(inputFile)\n\u001b[0;32m      7\u001b[0m \u001b[39mprint\u001b[39m(\u001b[39m\"\u001b[39m\u001b[39mprocessing: \u001b[39m\u001b[39m\"\u001b[39m, current_i)\n\u001b[0;32m      8\u001b[0m \u001b[39mfor\u001b[39;00m i \u001b[39min\u001b[39;00m \u001b[39mrange\u001b[39m(x):\n",
      "File \u001b[1;32mc:\\Users\\patri\\anaconda3\\lib\\site-packages\\PyPDF2\\_reader.py:317\u001b[0m, in \u001b[0;36mPdfReader.__init__\u001b[1;34m(self, stream, strict, password)\u001b[0m\n\u001b[0;32m    311\u001b[0m     logger_warning(\n\u001b[0;32m    312\u001b[0m         \u001b[39m\"\u001b[39m\u001b[39mPdfReader stream/file object is not in binary mode. \u001b[39m\u001b[39m\"\u001b[39m\n\u001b[0;32m    313\u001b[0m         \u001b[39m\"\u001b[39m\u001b[39mIt may not be read correctly.\u001b[39m\u001b[39m\"\u001b[39m,\n\u001b[0;32m    314\u001b[0m         \u001b[39m__name__\u001b[39m,\n\u001b[0;32m    315\u001b[0m     )\n\u001b[0;32m    316\u001b[0m \u001b[39mif\u001b[39;00m \u001b[39misinstance\u001b[39m(stream, (\u001b[39mstr\u001b[39m, Path)):\n\u001b[1;32m--> 317\u001b[0m     \u001b[39mwith\u001b[39;00m \u001b[39mopen\u001b[39;49m(stream, \u001b[39m\"\u001b[39;49m\u001b[39mrb\u001b[39;49m\u001b[39m\"\u001b[39;49m) \u001b[39mas\u001b[39;00m fh:\n\u001b[0;32m    318\u001b[0m         stream \u001b[39m=\u001b[39m BytesIO(fh\u001b[39m.\u001b[39mread())\n\u001b[0;32m    319\u001b[0m \u001b[39mself\u001b[39m\u001b[39m.\u001b[39mread(stream)\n",
      "\u001b[1;31mFileNotFoundError\u001b[0m: [Errno 2] No such file or directory: 'Z:\\\\Projects\\\\ChatGPT\\\\data\\\\NJS\\\\a_4_5_22.txt'"
     ]
    }
   ],
   "source": [
    "for i in range(file_count-1): \n",
    "    inputFile = input_list[i]\n",
    "    outputFile = output_list[i]\n",
    "    process_file(inputFile, outputFile, i)\n",
    "\n",
    "\n"
   ]
  },
  {
   "cell_type": "code",
   "execution_count": 49,
   "metadata": {},
   "outputs": [
    {
     "data": {
      "text/plain": [
       "['Z:\\\\Projects\\\\ChatGPT\\\\data\\\\NJS\\\\opinion_data\\\\text_data\\\\a-2_3-22.txt',\n",
       " 'Z:\\\\Projects\\\\ChatGPT\\\\data\\\\NJS\\\\opinion_data\\\\text_data\\\\a_16_22.txt',\n",
       " 'Z:\\\\Projects\\\\ChatGPT\\\\data\\\\NJS\\\\opinion_data\\\\text_data\\\\a_19_22.txt',\n",
       " 'Z:\\\\Projects\\\\ChatGPT\\\\data\\\\NJS\\\\opinion_data\\\\text_data\\\\a_21_22.txt',\n",
       " 'Z:\\\\Projects\\\\ChatGPT\\\\data\\\\NJS\\\\opinion_data\\\\text_data\\\\a_28_21.txt',\n",
       " 'Z:\\\\Projects\\\\ChatGPT\\\\data\\\\NJS\\\\opinion_data\\\\text_data\\\\a_34_21.txt',\n",
       " 'Z:\\\\Projects\\\\ChatGPT\\\\data\\\\NJS\\\\opinion_data\\\\text_data\\\\a_45_21.txt',\n",
       " 'Z:\\\\Projects\\\\ChatGPT\\\\data\\\\NJS\\\\opinion_data\\\\text_data\\\\a_47_21.txt',\n",
       " 'Z:\\\\Projects\\\\ChatGPT\\\\data\\\\NJS\\\\opinion_data\\\\text_data\\\\a_49_21.txt',\n",
       " 'Z:\\\\Projects\\\\ChatGPT\\\\data\\\\NJS\\\\opinion_data\\\\text_data\\\\a_4_5_22.txt',\n",
       " 'Z:\\\\Projects\\\\ChatGPT\\\\data\\\\NJS\\\\opinion_data\\\\text_data\\\\a_4_5_22.txt',\n",
       " 'Z:\\\\Projects\\\\ChatGPT\\\\data\\\\NJS\\\\opinion_data\\\\text_data\\\\a_50_21.txt',\n",
       " 'Z:\\\\Projects\\\\ChatGPT\\\\data\\\\NJS\\\\opinion_data\\\\text_data\\\\a_58_59_60-21.txt',\n",
       " 'Z:\\\\Projects\\\\ChatGPT\\\\data\\\\NJS\\\\opinion_data\\\\text_data\\\\a_61_21_a_7_22.txt',\n",
       " 'Z:\\\\Projects\\\\ChatGPT\\\\data\\\\NJS\\\\opinion_data\\\\text_data\\\\a_63_21.txt',\n",
       " 'Z:\\\\Projects\\\\ChatGPT\\\\data\\\\NJS\\\\opinion_data\\\\text_data\\\\a_67_21.txt',\n",
       " 'Z:\\\\Projects\\\\ChatGPT\\\\data\\\\NJS\\\\opinion_data\\\\text_data\\\\a_6_22.txt',\n",
       " 'Z:\\\\Projects\\\\ChatGPT\\\\data\\\\NJS\\\\opinion_data\\\\text_data\\\\a_8_22.txt',\n",
       " 'Z:\\\\Projects\\\\ChatGPT\\\\data\\\\NJS\\\\opinion_data\\\\text_data\\\\a_9_22.txt',\n",
       " 'Z:\\\\Projects\\\\ChatGPT\\\\data\\\\NJS\\\\opinion_data\\\\text_data\\\\a_4_5_22.txt']"
      ]
     },
     "execution_count": 49,
     "metadata": {},
     "output_type": "execute_result"
    }
   ],
   "source": [
    "output_list"
   ]
  },
  {
   "cell_type": "code",
   "execution_count": 69,
   "metadata": {},
   "outputs": [
    {
     "name": "stdout",
     "output_type": "stream",
     "text": [
      "['Z:\\\\Projects\\\\ChatGPT\\\\data\\\\NJS\\\\a-2_3-22.pdf', 'Z:\\\\Projects\\\\ChatGPT\\\\data\\\\NJS\\\\a_16_22.pdf', 'Z:\\\\Projects\\\\ChatGPT\\\\data\\\\NJS\\\\a_19_22.pdf', 'Z:\\\\Projects\\\\ChatGPT\\\\data\\\\NJS\\\\a_21_22.pdf', 'Z:\\\\Projects\\\\ChatGPT\\\\data\\\\NJS\\\\a_28_21.pdf', 'Z:\\\\Projects\\\\ChatGPT\\\\data\\\\NJS\\\\a_34_21.pdf', 'Z:\\\\Projects\\\\ChatGPT\\\\data\\\\NJS\\\\a_45_21.pdf', 'Z:\\\\Projects\\\\ChatGPT\\\\data\\\\NJS\\\\a_47_21.pdf', 'Z:\\\\Projects\\\\ChatGPT\\\\data\\\\NJS\\\\a_49_21.pdf', 'Z:\\\\Projects\\\\ChatGPT\\\\data\\\\NJS\\\\a_4_5_22.pdf', 'Z:\\\\Projects\\\\ChatGPT\\\\data\\\\NJS\\\\a_4_5_22.txt', 'Z:\\\\Projects\\\\ChatGPT\\\\data\\\\NJS\\\\a_50_21.pdf', 'Z:\\\\Projects\\\\ChatGPT\\\\data\\\\NJS\\\\a_58_59_60-21.pdf', 'Z:\\\\Projects\\\\ChatGPT\\\\data\\\\NJS\\\\a_61_21_a_7_22.pdf', 'Z:\\\\Projects\\\\ChatGPT\\\\data\\\\NJS\\\\a_63_21.pdf', 'Z:\\\\Projects\\\\ChatGPT\\\\data\\\\NJS\\\\a_67_21.pdf', 'Z:\\\\Projects\\\\ChatGPT\\\\data\\\\NJS\\\\a_6_22.pdf', 'Z:\\\\Projects\\\\ChatGPT\\\\data\\\\NJS\\\\a_8_22.pdf', 'Z:\\\\Projects\\\\ChatGPT\\\\data\\\\NJS\\\\a_9_22.pdf', 'Z:\\\\Projects\\\\ChatGPT\\\\data\\\\NJS\\\\a_4_5_22.txt']\n"
     ]
    }
   ],
   "source": [
    "print(input_list)"
   ]
  }
 ],
 "metadata": {
  "kernelspec": {
   "display_name": "base",
   "language": "python",
   "name": "python3"
  },
  "language_info": {
   "codemirror_mode": {
    "name": "ipython",
    "version": 3
   },
   "file_extension": ".py",
   "mimetype": "text/x-python",
   "name": "python",
   "nbconvert_exporter": "python",
   "pygments_lexer": "ipython3",
   "version": "3.9.13"
  },
  "orig_nbformat": 4
 },
 "nbformat": 4,
 "nbformat_minor": 2
}

{
 "cells": [
  {
   "cell_type": "code",
   "execution_count": 1,
   "id": "ef93357c-ee32-4954-b4a8-8222427a9322",
   "metadata": {
    "tags": []
   },
   "outputs": [],
   "source": [
    "# Import libraries \n",
    "import pandas as pd \n",
    "import numpy as np "
   ]
  },
  {
   "cell_type": "code",
   "execution_count": 3,
   "id": "14563cc0-4018-4489-9b90-856e52f37bc9",
   "metadata": {
    "tags": []
   },
   "outputs": [
    {
     "data": {
      "text/html": [
       "<div>\n",
       "<style scoped>\n",
       "    .dataframe tbody tr th:only-of-type {\n",
       "        vertical-align: middle;\n",
       "    }\n",
       "\n",
       "    .dataframe tbody tr th {\n",
       "        vertical-align: top;\n",
       "    }\n",
       "\n",
       "    .dataframe thead th {\n",
       "        text-align: right;\n",
       "    }\n",
       "</style>\n",
       "<table border=\"1\" class=\"dataframe\">\n",
       "  <thead>\n",
       "    <tr style=\"text-align: right;\">\n",
       "      <th></th>\n",
       "      <th>M</th>\n",
       "      <th>X</th>\n",
       "      <th>B</th>\n",
       "      <th>e</th>\n",
       "      <th>y</th>\n",
       "    </tr>\n",
       "  </thead>\n",
       "  <tbody>\n",
       "    <tr>\n",
       "      <th>0</th>\n",
       "      <td>100</td>\n",
       "      <td>0</td>\n",
       "      <td>3</td>\n",
       "      <td>1526.469555</td>\n",
       "      <td>1529.469555</td>\n",
       "    </tr>\n",
       "    <tr>\n",
       "      <th>1</th>\n",
       "      <td>100</td>\n",
       "      <td>1</td>\n",
       "      <td>3</td>\n",
       "      <td>2034.775515</td>\n",
       "      <td>2137.775515</td>\n",
       "    </tr>\n",
       "    <tr>\n",
       "      <th>2</th>\n",
       "      <td>100</td>\n",
       "      <td>2</td>\n",
       "      <td>3</td>\n",
       "      <td>2562.798489</td>\n",
       "      <td>2765.798489</td>\n",
       "    </tr>\n",
       "    <tr>\n",
       "      <th>3</th>\n",
       "      <td>100</td>\n",
       "      <td>3</td>\n",
       "      <td>3</td>\n",
       "      <td>2296.752844</td>\n",
       "      <td>2599.752844</td>\n",
       "    </tr>\n",
       "    <tr>\n",
       "      <th>4</th>\n",
       "      <td>100</td>\n",
       "      <td>4</td>\n",
       "      <td>3</td>\n",
       "      <td>2959.833166</td>\n",
       "      <td>3362.833166</td>\n",
       "    </tr>\n",
       "  </tbody>\n",
       "</table>\n",
       "</div>"
      ],
      "text/plain": [
       "     M  X  B            e            y\n",
       "0  100  0  3  1526.469555  1529.469555\n",
       "1  100  1  3  2034.775515  2137.775515\n",
       "2  100  2  3  2562.798489  2765.798489\n",
       "3  100  3  3  2296.752844  2599.752844\n",
       "4  100  4  3  2959.833166  3362.833166"
      ]
     },
     "execution_count": 3,
     "metadata": {},
     "output_type": "execute_result"
    }
   ],
   "source": [
    "# import the data - this was created with the prior notebook.  y = 2.5M + 3 + e\n",
    "fileIn = '/mnt/ssd/LLM_Stuff/notebooks/data/misc/simple_data.csv'\n",
    "df = pd.read_csv(fileIn)\n",
    "df.head()"
   ]
  },
  {
   "cell_type": "code",
   "execution_count": 6,
   "id": "bec8babf-10e7-44de-9b67-01294367a167",
   "metadata": {
    "tags": []
   },
   "outputs": [],
   "source": [
    "import statsmodels.api as sm\n",
    "import statsmodels.formula.api as smf"
   ]
  },
  {
   "cell_type": "code",
   "execution_count": 7,
   "id": "3a92f06f-16bb-4544-b827-0e9f7fc81dc4",
   "metadata": {
    "tags": []
   },
   "outputs": [],
   "source": [
    "results = smf.ols('y ~ X', data=df).fit()"
   ]
  },
  {
   "cell_type": "code",
   "execution_count": 8,
   "id": "ae88b887-e453-419a-9680-33cb510bcd1b",
   "metadata": {
    "tags": []
   },
   "outputs": [
    {
     "name": "stdout",
     "output_type": "stream",
     "text": [
      "                            OLS Regression Results                            \n",
      "==============================================================================\n",
      "Dep. Variable:                      y   R-squared:                       0.907\n",
      "Model:                            OLS   Adj. R-squared:                  0.906\n",
      "Method:                 Least Squares   F-statistic:                     951.1\n",
      "Date:                Thu, 08 Aug 2024   Prob (F-statistic):           2.99e-52\n",
      "Time:                        18:10:55   Log-Likelihood:                -822.06\n",
      "No. Observations:                 100   AIC:                             1648.\n",
      "Df Residuals:                      98   BIC:                             1653.\n",
      "Df Model:                           1                                         \n",
      "Covariance Type:            nonrobust                                         \n",
      "==============================================================================\n",
      "                 coef    std err          t      P>|t|      [0.025      0.975]\n",
      "------------------------------------------------------------------------------\n",
      "Intercept   2246.9216    180.348     12.459      0.000    1889.028    2604.815\n",
      "X             97.0657      3.147     30.841      0.000      90.820     103.311\n",
      "==============================================================================\n",
      "Omnibus:                        5.565   Durbin-Watson:                   2.189\n",
      "Prob(Omnibus):                  0.062   Jarque-Bera (JB):                5.844\n",
      "Skew:                          -0.335   Prob(JB):                       0.0538\n",
      "Kurtosis:                       3.977   Cond. No.                         114.\n",
      "==============================================================================\n",
      "\n",
      "Notes:\n",
      "[1] Standard Errors assume that the covariance matrix of the errors is correctly specified.\n"
     ]
    }
   ],
   "source": [
    "print(results.summary())"
   ]
  },
  {
   "cell_type": "code",
   "execution_count": null,
   "id": "275c6260-8518-4a0e-8c94-b930797bda7c",
   "metadata": {},
   "outputs": [],
   "source": []
  }
 ],
 "metadata": {
  "kernelspec": {
   "display_name": "Python 3 (ipykernel)",
   "language": "python",
   "name": "python3"
  },
  "language_info": {
   "codemirror_mode": {
    "name": "ipython",
    "version": 3
   },
   "file_extension": ".py",
   "mimetype": "text/x-python",
   "name": "python",
   "nbconvert_exporter": "python",
   "pygments_lexer": "ipython3",
   "version": "3.10.12"
  }
 },
 "nbformat": 4,
 "nbformat_minor": 5
}

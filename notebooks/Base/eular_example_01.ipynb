{
 "cells": [
  {
   "cell_type": "markdown",
   "id": "34ff76df-d916-4ed4-b779-cad55d7e1a87",
   "metadata": {},
   "source": [
    "## Euler Problem 27 "
   ]
  },
  {
   "cell_type": "code",
   "execution_count": 3,
   "id": "c2f2b93d-75ef-4b7d-9d23-6865b6d7824a",
   "metadata": {
    "tags": []
   },
   "outputs": [],
   "source": [
    "# Set basis \n",
    "a = 0 \n",
    "max_a = 1000 \n",
    "b = 0 \n",
    "max_b = 1000\n",
    "n = 0 "
   ]
  },
  {
   "cell_type": "code",
   "execution_count": 5,
   "id": "2e3f11b9-c27d-4b99-8a7e-95e127c1d6d6",
   "metadata": {
    "tags": []
   },
   "outputs": [],
   "source": [
    "# Our Function \n",
    "def ans (a, b, n): \n",
    "    x = (n^2) + (a * n) + b\n",
    "    return (x) "
   ]
  },
  {
   "cell_type": "code",
   "execution_count": 7,
   "id": "3af67013-43d5-4ec0-9376-443aa4f85435",
   "metadata": {
    "tags": []
   },
   "outputs": [],
   "source": [
    "# define product \n",
    "def prod_coff (a, b): \n",
    "    t1 = abs(a) \n",
    "    t2 = abe(b) \n",
    "    prod = t1 * t2 \n",
    "    return (prod) "
   ]
  }
 ],
 "metadata": {
  "kernelspec": {
   "display_name": "Python 3 (ipykernel)",
   "language": "python",
   "name": "python3"
  },
  "language_info": {
   "codemirror_mode": {
    "name": "ipython",
    "version": 3
   },
   "file_extension": ".py",
   "mimetype": "text/x-python",
   "name": "python",
   "nbconvert_exporter": "python",
   "pygments_lexer": "ipython3",
   "version": "3.10.12"
  }
 },
 "nbformat": 4,
 "nbformat_minor": 5
}

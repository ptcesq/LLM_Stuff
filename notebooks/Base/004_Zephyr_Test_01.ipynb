{
 "cells": [
  {
   "cell_type": "markdown",
   "id": "9b2cfd40",
   "metadata": {},
   "source": [
    "#    Zephyr Test Notebook "
   ]
  },
  {
   "cell_type": "code",
   "execution_count": 11,
   "id": "ad0fa2a3",
   "metadata": {
    "tags": []
   },
   "outputs": [],
   "source": [
    "import torch\n",
    "from transformers import pipeline"
   ]
  },
  {
   "cell_type": "code",
   "execution_count": 12,
   "id": "78ad2e18",
   "metadata": {
    "tags": []
   },
   "outputs": [
    {
     "data": {
      "application/vnd.jupyter.widget-view+json": {
       "model_id": "3c5ae454c4644c3eb3c2effea5df8126",
       "version_major": 2,
       "version_minor": 0
      },
      "text/plain": [
       "Loading checkpoint shards:   0%|          | 0/8 [00:00<?, ?it/s]"
      ]
     },
     "metadata": {},
     "output_type": "display_data"
    }
   ],
   "source": [
    "pipe = pipeline(\"text-generation\", model=\"HuggingFaceH4/zephyr-7b-alpha\", torch_dtype=torch.bfloat16, device_map=\"auto\")"
   ]
  },
  {
   "cell_type": "code",
   "execution_count": 13,
   "id": "a234894c",
   "metadata": {
    "tags": []
   },
   "outputs": [],
   "source": [
    "# We use the tokenizer's chat template to format each message - see https://huggingface.co/docs/transformers/main/en/chat_templating\n"
   ]
  },
  {
   "cell_type": "code",
   "execution_count": 16,
   "id": "849557b0",
   "metadata": {
    "tags": []
   },
   "outputs": [],
   "source": [
    "messages = [\n",
    "    {\n",
    "        \"role\": \"system\",\n",
    "        \"content\": \"You are a friendly chatbot who always responds in the style of a teacher\",\n",
    "    },\n",
    "    {\"role\": \"user\", \"content\": \"Tell me a story about Mary Tylor Moore\"},\n",
    "]\n"
   ]
  },
  {
   "cell_type": "code",
   "execution_count": 17,
   "id": "d9ead2bf",
   "metadata": {
    "tags": []
   },
   "outputs": [
    {
     "name": "stdout",
     "output_type": "stream",
     "text": [
      "<|system|>\n",
      "You are a friendly chatbot who always responds in the style of a teacher</s>\n",
      "<|user|>\n",
      "Tell me a story about Mary Tylor Moore</s>\n",
      "<|assistant|>\n",
      "Certainly! Mary Tyler Moore was an American actress born on December 29, 1936, in Brooklyn, New York. She gained fame in the 1960s for her role as Laura Petrie on the popular TV show \"The Dick Van Dyke Show.\" However, her most iconic role came in the 1970s when she starred in \"The Mary Tyler Moore Show.\"\n",
      "\n",
      "In this hit sitcom, Mary played a young woman named Mary Richards who moves to Minneapolis to start a new life and begins working as an associate producer at a TV news station. The show was groundbreaking in its portrayal of a single woman in the workplace, and it won numerous awards, including 29 Primetime Emmy Awards and a Peabody Award.\n",
      "\n",
      "One of the most memorable scenes from the show is the opening credits, which feature Mary throwing a hat in the air and twirling as the iconic theme song plays. This became known as the \"Mary Tyler Moore Dance\" and was a nod to Mary's character's newfound independence and confidence.\n",
      "\n",
      "Mary Tyler Moore's career spanned over five decades, and she won several awards, including an Emmy, a Tony, and a Golden Globe. She passed away on January 25, 2017, at the age of 80, but her legacy as a trailblazing actress and role model continues to inspire generations.\n"
     ]
    }
   ],
   "source": [
    "prompt = pipe.tokenizer.apply_chat_template(messages, tokenize=False, add_generation_prompt=True)\n",
    "outputs = pipe(prompt, max_new_tokens=500, do_sample=True, temperature=0.7, top_k=50, top_p=0.95)\n",
    "print(outputs[0][\"generated_text\"])\n"
   ]
  },
  {
   "cell_type": "code",
   "execution_count": null,
   "id": "89121a6a-10d4-429e-804f-68b6778e29ca",
   "metadata": {},
   "outputs": [],
   "source": []
  }
 ],
 "metadata": {
  "kernelspec": {
   "display_name": "Python 3 (ipykernel)",
   "language": "python",
   "name": "python3"
  },
  "language_info": {
   "codemirror_mode": {
    "name": "ipython",
    "version": 3
   },
   "file_extension": ".py",
   "mimetype": "text/x-python",
   "name": "python",
   "nbconvert_exporter": "python",
   "pygments_lexer": "ipython3",
   "version": "3.10.12"
  }
 },
 "nbformat": 4,
 "nbformat_minor": 5
}

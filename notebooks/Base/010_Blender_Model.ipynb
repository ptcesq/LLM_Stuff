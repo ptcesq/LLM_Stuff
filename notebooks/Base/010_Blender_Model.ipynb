{
 "cells": [
  {
   "cell_type": "code",
   "execution_count": 1,
   "id": "1aaee47f",
   "metadata": {},
   "outputs": [],
   "source": [
    "# Load the libraries \n",
    "from langchain.llms import HuggingFacePipeline\n",
    "import torch\n",
    "from transformers import AutoTokenizer, AutoModelForCausalLM, pipeline, AutoModelForSeq2SeqLM"
   ]
  },
  {
   "cell_type": "code",
   "execution_count": 2,
   "id": "7cd42123",
   "metadata": {},
   "outputs": [],
   "source": [
    "# Build your model \n",
    "model_id = 'facebook/blenderbot-1B-distill'\n",
    "tokenizer = AutoTokenizer.from_pretrained(model_id)\n",
    "model = AutoModelForSeq2SeqLM.from_pretrained(model_id)"
   ]
  },
  {
   "cell_type": "code",
   "execution_count": 4,
   "id": "80d7735f",
   "metadata": {},
   "outputs": [],
   "source": [
    "# Create your pipeling \n",
    "pipe = pipeline(\n",
    "    \"text2text-generation\", \n",
    "    model=model, \n",
    "    tokenizer=tokenizer, \n",
    "    max_length=100\n",
    ")"
   ]
  },
  {
   "cell_type": "code",
   "execution_count": 6,
   "id": "6397bdd3",
   "metadata": {},
   "outputs": [],
   "source": [
    "# instantiate your pipeline \n",
    "local_llm = pipe"
   ]
  },
  {
   "cell_type": "code",
   "execution_count": 8,
   "id": "0678bd5f",
   "metadata": {},
   "outputs": [
    {
     "name": "stdout",
     "output_type": "stream",
     "text": [
      "[{'generated_text': ' The capital is Bavaria. It is the most populous city in Germany.'}]\n"
     ]
    }
   ],
   "source": [
    "# ping your llm \n",
    "print(local_llm('What is the capital of Germany? '))"
   ]
  }
 ],
 "metadata": {
  "kernelspec": {
   "display_name": "Python 3 (ipykernel)",
   "language": "python",
   "name": "python3"
  },
  "language_info": {
   "codemirror_mode": {
    "name": "ipython",
    "version": 3
   },
   "file_extension": ".py",
   "mimetype": "text/x-python",
   "name": "python",
   "nbconvert_exporter": "python",
   "pygments_lexer": "ipython3",
   "version": "3.11.5"
  }
 },
 "nbformat": 4,
 "nbformat_minor": 5
}

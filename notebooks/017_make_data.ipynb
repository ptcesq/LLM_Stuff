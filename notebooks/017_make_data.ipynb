{
 "cells": [
  {
   "cell_type": "markdown",
   "id": "a40a864a",
   "metadata": {},
   "source": [
    "# Sample Notebook \n",
    ".  In this notebook we are going to generate a data set X,y which is modeled with gaussian error.  The model will be y = MX + B + e where y is is an array of y corrdinate, X is an array of X coordinate, B is the y intercept for the model and e is the error for each point.  "
   ]
  },
  {
   "cell_type": "code",
   "execution_count": 2,
   "id": "6087df25",
   "metadata": {},
   "outputs": [],
   "source": [
    "# Load our libraries \n",
    "import pandas as pd \n",
    "import numpy as np\n",
    "import random "
   ]
  },
  {
   "cell_type": "code",
   "execution_count": 3,
   "id": "8073a70f",
   "metadata": {},
   "outputs": [
    {
     "name": "stdout",
     "output_type": "stream",
     "text": [
      "[0, 1, 2, 3, 4, 5, 6, 7, 8, 9]\n"
     ]
    }
   ],
   "source": [
    "# Generate the X coordinates \n",
    "X = list(range(100))\n",
    "print(X[:10]) \n",
    "# X = pd.series(X) "
   ]
  },
  {
   "cell_type": "code",
   "execution_count": 4,
   "id": "0d135234",
   "metadata": {},
   "outputs": [
    {
     "name": "stdout",
     "output_type": "stream",
     "text": [
      "[3 3 3 3 3 3 3 3 3 3]\n"
     ]
    }
   ],
   "source": [
    "# set the y intercept\n",
    "B= np.full(100, 3)\n",
    "print(B[:10]) \n",
    "# B = pd.series(B)"
   ]
  },
  {
   "cell_type": "code",
   "execution_count": 23,
   "id": "c06c22eb",
   "metadata": {},
   "outputs": [
    {
     "name": "stdout",
     "output_type": "stream",
     "text": [
      "[1647.17925291 1987.33900291 1215.26753908 3608.25493153 3589.33213834\n",
      " 1925.92505587 1639.46338974 1976.24202758 2646.07892922  284.91082276]\n"
     ]
    }
   ],
   "source": [
    "# create the error array \n",
    "mu, sigma = 2000, 1000 # mean and standard deviation\n",
    "e = np.random.normal(mu, sigma, 100)\n",
    "print(e[:10]) "
   ]
  },
  {
   "cell_type": "code",
   "execution_count": 24,
   "id": "e8234816",
   "metadata": {},
   "outputs": [
    {
     "name": "stdout",
     "output_type": "stream",
     "text": [
      "[100 100 100 100 100 100 100 100 100 100]\n"
     ]
    }
   ],
   "source": [
    "M = np.full(100, 100)\n",
    "print(M[:10]) "
   ]
  },
  {
   "cell_type": "code",
   "execution_count": 25,
   "id": "4d4d6c1d",
   "metadata": {},
   "outputs": [
    {
     "data": {
      "text/html": [
       "<div>\n",
       "<style scoped>\n",
       "    .dataframe tbody tr th:only-of-type {\n",
       "        vertical-align: middle;\n",
       "    }\n",
       "\n",
       "    .dataframe tbody tr th {\n",
       "        vertical-align: top;\n",
       "    }\n",
       "\n",
       "    .dataframe thead th {\n",
       "        text-align: right;\n",
       "    }\n",
       "</style>\n",
       "<table border=\"1\" class=\"dataframe\">\n",
       "  <thead>\n",
       "    <tr style=\"text-align: right;\">\n",
       "      <th></th>\n",
       "      <th>M</th>\n",
       "      <th>X</th>\n",
       "      <th>B</th>\n",
       "      <th>e</th>\n",
       "    </tr>\n",
       "  </thead>\n",
       "  <tbody>\n",
       "    <tr>\n",
       "      <th>0</th>\n",
       "      <td>100</td>\n",
       "      <td>0</td>\n",
       "      <td>3</td>\n",
       "      <td>1647.179253</td>\n",
       "    </tr>\n",
       "    <tr>\n",
       "      <th>1</th>\n",
       "      <td>100</td>\n",
       "      <td>1</td>\n",
       "      <td>3</td>\n",
       "      <td>1987.339003</td>\n",
       "    </tr>\n",
       "    <tr>\n",
       "      <th>2</th>\n",
       "      <td>100</td>\n",
       "      <td>2</td>\n",
       "      <td>3</td>\n",
       "      <td>1215.267539</td>\n",
       "    </tr>\n",
       "    <tr>\n",
       "      <th>3</th>\n",
       "      <td>100</td>\n",
       "      <td>3</td>\n",
       "      <td>3</td>\n",
       "      <td>3608.254932</td>\n",
       "    </tr>\n",
       "    <tr>\n",
       "      <th>4</th>\n",
       "      <td>100</td>\n",
       "      <td>4</td>\n",
       "      <td>3</td>\n",
       "      <td>3589.332138</td>\n",
       "    </tr>\n",
       "  </tbody>\n",
       "</table>\n",
       "</div>"
      ],
      "text/plain": [
       "     M  X  B            e\n",
       "0  100  0  3  1647.179253\n",
       "1  100  1  3  1987.339003\n",
       "2  100  2  3  1215.267539\n",
       "3  100  3  3  3608.254932\n",
       "4  100  4  3  3589.332138"
      ]
     },
     "execution_count": 25,
     "metadata": {},
     "output_type": "execute_result"
    }
   ],
   "source": [
    "# create df with independent values\n",
    "frame = {'M': M, \n",
    "         'X': X, \n",
    "         'B': B, \n",
    "         'e': e}\n",
    "df = pd.DataFrame(frame) \n",
    "df.head()"
   ]
  },
  {
   "cell_type": "code",
   "execution_count": 26,
   "id": "319e60c9",
   "metadata": {},
   "outputs": [
    {
     "name": "stdout",
     "output_type": "stream",
     "text": [
      "     M  X  B            e            y\n",
      "0  100  0  3  1647.179253  1650.179253\n",
      "1  100  1  3  1987.339003  2090.339003\n",
      "2  100  2  3  1215.267539  1418.267539\n",
      "3  100  3  3  3608.254932  3911.254932\n",
      "4  100  4  3  3589.332138  3992.332138\n",
      "      M   X  B            e             y\n",
      "95  100  95  3   -87.695080   9415.304920\n",
      "96  100  96  3  2651.776187  12254.776187\n",
      "97  100  97  3  2322.781355  12025.781355\n",
      "98  100  98  3  1535.330297  11338.330297\n",
      "99  100  99  3  2769.094433  12672.094433\n"
     ]
    }
   ],
   "source": [
    "# project the y component \n",
    "df['y'] = (df['X'] * df['M']) + df['B'] + df['e']\n",
    "print(df.head())\n",
    "print(df.tail())"
   ]
  },
  {
   "cell_type": "code",
   "execution_count": 27,
   "id": "196165bc",
   "metadata": {},
   "outputs": [
    {
     "data": {
      "image/png": "[encoded data removed]",
      "text/plain": [
       "<matplotlib.figure.Figure at 0x7f5f0c8e48>"
      ]
     },
     "metadata": {
      "needs_background": "light"
     },
     "output_type": "display_data"
    }
   ],
   "source": [
    "# plot the data \n",
    "import matplotlib.pyplot as plt \n",
    "plt.scatter(df['X'], df['y'])\n",
    "plt.show()"
   ]
  },
  {
   "cell_type": "code",
   "execution_count": 28,
   "id": "ed6f1d95",
   "metadata": {},
   "outputs": [],
   "source": [
    "# Save the data \n",
    "fileOut = './../data/sample_data.csv'\n",
    "df.to_csv(fileOut, index=False)"
   ]
  }
 ],
 "metadata": {
  "kernelspec": {
   "display_name": "Python 3",
   "language": "python",
   "name": "python3"
  },
  "language_info": {
   "codemirror_mode": {
    "name": "ipython",
    "version": 3
   },
   "file_extension": ".py",
   "mimetype": "text/x-python",
   "name": "python",
   "nbconvert_exporter": "python",
   "pygments_lexer": "ipython3",
   "version": "3.6.9"
  }
 },
 "nbformat": 4,
 "nbformat_minor": 5
}

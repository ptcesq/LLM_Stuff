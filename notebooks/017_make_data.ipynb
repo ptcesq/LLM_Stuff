{
 "cells": [
  {
   "cell_type": "markdown",
   "id": "fba0eab0",
   "metadata": {},
   "source": [
    "# Sample Notebook \n",
    ".  In this notebook we are going to generate a data set X,y which is modeled with gaussian error.  The model will be y = MX + B + e where y is is an array of y corrdinate, X is an array of X coordinate, B is the y intercept for the model and e is the error for each point.  "
   ]
  },
  {
   "cell_type": "code",
   "execution_count": null,
   "id": "63cbd3b6",
   "metadata": {},
   "outputs": [],
   "source": [
    "# Load our libraries \n",
    "import pandas as pd \n",
    "import numpy as np\n",
    "import random "
   ]
  },
  {
   "cell_type": "code",
   "execution_count": null,
   "id": "b91c7d05",
   "metadata": {},
   "outputs": [],
   "source": [
    "# Generate the X coordinates \n",
    "X = list(range(100))\n",
    "print(X[:10]) \n",
    "# X = pd.series(X) "
   ]
  },
  {
   "cell_type": "code",
   "execution_count": null,
   "id": "0e07e41d",
   "metadata": {},
   "outputs": [],
   "source": [
    "# set the y intercept\n",
    "B= np.full(100, 3)\n",
    "print(B[:10]) \n",
    "# B = pd.series(B)"
   ]
  },
  {
   "cell_type": "code",
   "execution_count": null,
   "id": "6c3c139c",
   "metadata": {},
   "outputs": [],
   "source": [
    "# create the error array \n",
    "mu, sigma = 0, 35 # mean and standard deviation\n",
    "e = np.random.normal(mu, sigma, 100)\n",
    "print(e[:10]) "
   ]
  },
  {
   "cell_type": "code",
   "execution_count": null,
   "id": "cd646175",
   "metadata": {},
   "outputs": [],
   "source": [
    "M = np.full(100, 2.5)\n",
    "print(M[:10]) "
   ]
  },
  {
   "cell_type": "code",
   "execution_count": null,
   "id": "aa61f29c",
   "metadata": {},
   "outputs": [],
   "source": [
    "# create df with independent values\n",
    "frame = {'M': M, \n",
    "         'X': X, \n",
    "         'B': B, \n",
    "         'e': e}\n",
    "df = pd.DataFrame(frame) \n",
    "df.head()"
   ]
  },
  {
   "cell_type": "code",
   "execution_count": null,
   "id": "b6e4febb",
   "metadata": {},
   "outputs": [],
   "source": [
    "# project the y component \n",
    "df['y'] = (df['X'] * df['M']) + df['B'] + df['e']\n",
    "print(df.head())\n",
    "print(df.tail())"
   ]
  },
  {
   "cell_type": "code",
   "execution_count": null,
   "id": "0d62187e",
   "metadata": {},
   "outputs": [],
   "source": [
    "# plot the data \n",
    "import matplotlib.pyplot as plt \n",
    "plt.scatter(df['X'], df['y'])\n",
    "plt.show()"
   ]
  },
  {
   "cell_type": "code",
   "execution_count": null,
   "id": "7ef3a6c2",
   "metadata": {},
   "outputs": [],
   "source": [
    "# Save the data \n",
    "fileOut = './../data/sample_data.csv'\n",
    "df.to_csv(fileOut, index=False)"
   ]
  }
 ],
 "metadata": {
  "kernelspec": {
   "display_name": "Python 3",
   "language": "python",
   "name": "python3"
  },
  "language_info": {
   "codemirror_mode": {
    "name": "ipython",
    "version": 3
   },
   "file_extension": ".py",
   "mimetype": "text/x-python",
   "name": "python",
   "nbconvert_exporter": "python",
   "pygments_lexer": "ipython3",
   "version": "3.6.9"
  }
 },
 "nbformat": 4,
 "nbformat_minor": 5
}

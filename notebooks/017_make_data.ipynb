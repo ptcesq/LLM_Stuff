{
 "cells": [
  {
   "cell_type": "markdown",
   "id": "a40a864a",
   "metadata": {},
   "source": [
    "# Sample Notebook \n",
    ".  In this notebook we are going to generate a data set X,y which is modeled with gaussian error.  The model will be y = MX + B + e where y is is an array of y corrdinate, X is an array of X coordinate, B is the y intercept for the model and e is the error for each point.  "
   ]
  },
  {
   "cell_type": "code",
   "execution_count": 1,
   "id": "6087df25",
   "metadata": {},
   "outputs": [],
   "source": [
    "# Load our libraries \n",
    "import pandas as pd \n",
    "import numpy as np\n",
    "import random "
   ]
  },
  {
   "cell_type": "code",
   "execution_count": 2,
   "id": "8073a70f",
   "metadata": {},
   "outputs": [
    {
     "name": "stdout",
     "output_type": "stream",
     "text": [
      "[0, 1, 2, 3, 4, 5, 6, 7, 8, 9]\n"
     ]
    }
   ],
   "source": [
    "# Generate the X coordinates \n",
    "X = list(range(100))\n",
    "print(X[:10]) \n",
    "# X = pd.series(X) "
   ]
  },
  {
   "cell_type": "code",
   "execution_count": 3,
   "id": "0d135234",
   "metadata": {},
   "outputs": [
    {
     "name": "stdout",
     "output_type": "stream",
     "text": [
      "[3 3 3 3 3 3 3 3 3 3]\n"
     ]
    }
   ],
   "source": [
    "# set the y intercept\n",
    "B = np.full(100, 3)\n",
    "print(B[:10])\n",
    "# B = pd.series(B)"
   ]
  },
  {
   "cell_type": "code",
   "execution_count": 4,
   "id": "c06c22eb",
   "metadata": {},
   "outputs": [
    {
     "name": "stdout",
     "output_type": "stream",
     "text": [
      "[1526.4695551  2034.77551529 2562.79848876 2296.75284401 2959.83316577\n",
      " 2748.26070566  923.53131151 3200.35173911 1209.673699   2199.64095501]\n"
     ]
    }
   ],
   "source": [
    "# create the error array \n",
    "mu, sigma = 2000, 1000 # mean and standard deviation\n",
    "e = np.random.normal(mu, sigma, 100)\n",
    "print(e[:10]) "
   ]
  },
  {
   "cell_type": "code",
   "execution_count": 5,
   "id": "e8234816",
   "metadata": {},
   "outputs": [
    {
     "name": "stdout",
     "output_type": "stream",
     "text": [
      "[100 100 100 100 100 100 100 100 100 100]\n"
     ]
    }
   ],
   "source": [
    "M = np.full(100, 100)\n",
    "print(M[:10]) "
   ]
  },
  {
   "cell_type": "code",
   "execution_count": 6,
   "id": "4d4d6c1d",
   "metadata": {},
   "outputs": [
    {
     "data": {
      "text/html": [
       "<div>\n",
       "<style scoped>\n",
       "    .dataframe tbody tr th:only-of-type {\n",
       "        vertical-align: middle;\n",
       "    }\n",
       "\n",
       "    .dataframe tbody tr th {\n",
       "        vertical-align: top;\n",
       "    }\n",
       "\n",
       "    .dataframe thead th {\n",
       "        text-align: right;\n",
       "    }\n",
       "</style>\n",
       "<table border=\"1\" class=\"dataframe\">\n",
       "  <thead>\n",
       "    <tr style=\"text-align: right;\">\n",
       "      <th></th>\n",
       "      <th>M</th>\n",
       "      <th>X</th>\n",
       "      <th>B</th>\n",
       "      <th>e</th>\n",
       "    </tr>\n",
       "  </thead>\n",
       "  <tbody>\n",
       "    <tr>\n",
       "      <th>0</th>\n",
       "      <td>100</td>\n",
       "      <td>0</td>\n",
       "      <td>3</td>\n",
       "      <td>1526.469555</td>\n",
       "    </tr>\n",
       "    <tr>\n",
       "      <th>1</th>\n",
       "      <td>100</td>\n",
       "      <td>1</td>\n",
       "      <td>3</td>\n",
       "      <td>2034.775515</td>\n",
       "    </tr>\n",
       "    <tr>\n",
       "      <th>2</th>\n",
       "      <td>100</td>\n",
       "      <td>2</td>\n",
       "      <td>3</td>\n",
       "      <td>2562.798489</td>\n",
       "    </tr>\n",
       "    <tr>\n",
       "      <th>3</th>\n",
       "      <td>100</td>\n",
       "      <td>3</td>\n",
       "      <td>3</td>\n",
       "      <td>2296.752844</td>\n",
       "    </tr>\n",
       "    <tr>\n",
       "      <th>4</th>\n",
       "      <td>100</td>\n",
       "      <td>4</td>\n",
       "      <td>3</td>\n",
       "      <td>2959.833166</td>\n",
       "    </tr>\n",
       "  </tbody>\n",
       "</table>\n",
       "</div>"
      ],
      "text/plain": [
       "     M  X  B            e\n",
       "0  100  0  3  1526.469555\n",
       "1  100  1  3  2034.775515\n",
       "2  100  2  3  2562.798489\n",
       "3  100  3  3  2296.752844\n",
       "4  100  4  3  2959.833166"
      ]
     },
     "execution_count": 6,
     "metadata": {},
     "output_type": "execute_result"
    }
   ],
   "source": [
    "# create df with independent values\n",
    "frame = {'M': M, \n",
    "         'X': X, \n",
    "         'B': B, \n",
    "         'e': e}\n",
    "df = pd.DataFrame(frame) \n",
    "df.head()"
   ]
  },
  {
   "cell_type": "code",
   "execution_count": 11,
   "id": "319e60c9",
   "metadata": {},
   "outputs": [
    {
     "name": "stdout",
     "output_type": "stream",
     "text": [
      "     M  X  B            e            y\n",
      "0  100  0  3  1526.469555  1529.469555\n",
      "1  100  1  3  2034.775515  2137.775515\n",
      "2  100  2  3  2562.798489  2765.798489\n",
      "3  100  3  3  2296.752844  2599.752844\n",
      "4  100  4  3  2959.833166  3362.833166\n",
      "      M   X  B            e             y\n",
      "95  100  95  3  1220.710560  10723.710560\n",
      "96  100  96  3  2139.882354  11742.882354\n",
      "97  100  97  3  2938.211691  12641.211691\n",
      "98  100  98  3   539.657701  10342.657701\n",
      "99  100  99  3  3505.462873  13408.462873\n"
     ]
    }
   ],
   "source": [
    "# project the y component \n",
    "df['y'] = (df['X'] * df['M']) + df['B'] + df['e']\n",
    "print(df.head())\n",
    "print(df.tail())"
   ]
  },
  {
   "cell_type": "code",
   "execution_count": 12,
   "id": "1e20635f-7d08-48f6-a838-b89de42eaa21",
   "metadata": {},
   "outputs": [
    {
     "data": {
      "text/plain": [
       "<bound method DataFrame.info of       M   X  B            e             y\n",
       "0   100   0  3  1526.469555   1529.469555\n",
       "1   100   1  3  2034.775515   2137.775515\n",
       "2   100   2  3  2562.798489   2765.798489\n",
       "3   100   3  3  2296.752844   2599.752844\n",
       "4   100   4  3  2959.833166   3362.833166\n",
       "..  ...  .. ..          ...           ...\n",
       "95  100  95  3  1220.710560  10723.710560\n",
       "96  100  96  3  2139.882354  11742.882354\n",
       "97  100  97  3  2938.211691  12641.211691\n",
       "98  100  98  3   539.657701  10342.657701\n",
       "99  100  99  3  3505.462873  13408.462873\n",
       "\n",
       "[100 rows x 5 columns]>"
      ]
     },
     "execution_count": 12,
     "metadata": {},
     "output_type": "execute_result"
    }
   ],
   "source": [
    "df.info"
   ]
  },
  {
   "cell_type": "code",
   "execution_count": 13,
   "id": "196165bc",
   "metadata": {},
   "outputs": [
    {
     "data": {
      "image/png": "[encoded data removed]",
      "text/plain": [
       "<Figure size 640x480 with 1 Axes>"
      ]
     },
     "metadata": {},
     "output_type": "display_data"
    }
   ],
   "source": [
    "# plot the data \n",
    "import matplotlib.pyplot as plt \n",
    "plt.scatter(df['X'], df['y'])\n",
    "plt.show()"
   ]
  },
  {
   "cell_type": "code",
   "execution_count": 15,
   "id": "ed6f1d95",
   "metadata": {},
   "outputs": [],
   "source": [
    "# Save the data \n",
    "fileOut = './data/simple_data.csv'\n",
    "df.to_csv(fileOut, index=False)"
   ]
  }
 ],
 "metadata": {
  "kernelspec": {
   "display_name": "Python 3 (ipykernel)",
   "language": "python",
   "name": "python3"
  },
  "language_info": {
   "codemirror_mode": {
    "name": "ipython",
    "version": 3
   },
   "file_extension": ".py",
   "mimetype": "text/x-python",
   "name": "python",
   "nbconvert_exporter": "python",
   "pygments_lexer": "ipython3",
   "version": "3.10.14"
  }
 },
 "nbformat": 4,
 "nbformat_minor": 5
}

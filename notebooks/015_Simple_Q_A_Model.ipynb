{
 "cells": [
  {
   "cell_type": "markdown",
   "id": "87f60e3b",
   "metadata": {},
   "source": [
    "## Import libraries "
   ]
  },
  {
   "cell_type": "code",
   "execution_count": 1,
   "id": "74c25a93",
   "metadata": {},
   "outputs": [],
   "source": [
    "from transformers import pipeline"
   ]
  },
  {
   "cell_type": "markdown",
   "id": "fffaf481",
   "metadata": {},
   "source": [
    "## Select the model "
   ]
  },
  {
   "cell_type": "code",
   "execution_count": 2,
   "id": "169d6355",
   "metadata": {},
   "outputs": [],
   "source": [
    "qa_model = pipeline(\"question-answering\", \"timpal0l/mdeberta-v3-base-squad2\")"
   ]
  },
  {
   "cell_type": "markdown",
   "id": "79feea56",
   "metadata": {},
   "source": [
    "## Provide Context and Prompt Question "
   ]
  },
  {
   "cell_type": "code",
   "execution_count": 3,
   "id": "0b7b1a75",
   "metadata": {},
   "outputs": [],
   "source": [
    "Context = \"George Washington was the first US president.\"\n",
    "Question = \"Which President of the United States resigned from office?\""
   ]
  },
  {
   "cell_type": "markdown",
   "id": "88552506",
   "metadata": {},
   "source": [
    "## Posit the Prompt to the model "
   ]
  },
  {
   "cell_type": "code",
   "execution_count": 4,
   "id": "7ae34a10",
   "metadata": {},
   "outputs": [
    {
     "data": {
      "text/plain": [
       "{'score': 0.940813422203064,\n",
       " 'start': 0,\n",
       " 'end': 17,\n",
       " 'answer': 'George Washington'}"
      ]
     },
     "execution_count": 4,
     "metadata": {},
     "output_type": "execute_result"
    }
   ],
   "source": [
    "qa_model(question = Question, context = Context)"
   ]
  },
  {
   "cell_type": "markdown",
   "id": "b4f64f0a",
   "metadata": {},
   "source": [
    "## Update the context"
   ]
  },
  {
   "cell_type": "code",
   "execution_count": 6,
   "id": "d1c5ec3e",
   "metadata": {},
   "outputs": [],
   "source": [
    "Context = \"Richard Nixon was the 37th president of the US and the only preident to resign.\" \n",
    "Question = \"Which President of the United States resigned from office?\""
   ]
  },
  {
   "cell_type": "markdown",
   "id": "44209923",
   "metadata": {},
   "source": [
    "## Re-Posit the prompt to the model"
   ]
  },
  {
   "cell_type": "code",
   "execution_count": 7,
   "id": "9f63f715",
   "metadata": {},
   "outputs": [
    {
     "data": {
      "text/plain": [
       "{'score': 0.9826655387878418, 'start': 0, 'end': 13, 'answer': 'Richard Nixon'}"
      ]
     },
     "execution_count": 7,
     "metadata": {},
     "output_type": "execute_result"
    }
   ],
   "source": [
    "qa_model(question = Question, context = Context)"
   ]
  }
 ],
 "metadata": {
  "kernelspec": {
   "display_name": "Python 3 (ipykernel)",
   "language": "python",
   "name": "python3"
  },
  "language_info": {
   "codemirror_mode": {
    "name": "ipython",
    "version": 3
   },
   "file_extension": ".py",
   "mimetype": "text/x-python",
   "name": "python",
   "nbconvert_exporter": "python",
   "pygments_lexer": "ipython3",
   "version": "3.11.5"
  }
 },
 "nbformat": 4,
 "nbformat_minor": 5
}

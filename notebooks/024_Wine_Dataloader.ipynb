{
 "cells": [
  {
   "cell_type": "markdown",
   "id": "6e0b1417",
   "metadata": {},
   "source": [
    "# Wine Data set from UCI \n",
    "This notebook looks at the Wine Dataset from UCI (https://archive.ics.uci.edu/dataset/109/wine) "
   ]
  },
  {
   "cell_type": "code",
   "execution_count": 5,
   "id": "734f18d8",
   "metadata": {},
   "outputs": [],
   "source": [
    "# Import your Libraries \n",
    "import torch as tr\n",
    "import torch.nn as nn\n",
    "import torchvision\n",
    "import torchvision.transforms as transforms\n",
    "from torch.utils.data import Dataset, DataLoader\n",
    "import matplotlib.pyplot as plt\n",
    "import numpy as np\n",
    "import math\n",
    "import torch"
   ]
  },
  {
   "cell_type": "code",
   "execution_count": 2,
   "id": "9ea73f31",
   "metadata": {},
   "outputs": [
    {
     "name": "stdout",
     "output_type": "stream",
     "text": [
      "Cuda is Available:  True \n",
      "\n",
      "Current Device:  0 \n",
      "\n",
      "Current Device Name:  NVIDIA Tegra X1 \n",
      "\n"
     ]
    }
   ],
   "source": [
    "# Check to see if you have a cuda device \n",
    "cuda_available = tr.cuda.is_available()\n",
    "print(\"Cuda is Available: \", cuda_available, '\\n')\n",
    "\n",
    "# get the current device \n",
    "current_device = tr.cuda.current_device()\n",
    "print(\"Current Device: \", current_device, '\\n')\n",
    "\n",
    "# print the name of the current name \n",
    "current_device_name = tr.cuda.get_device_name(0) \n",
    "print(\"Current Device Name: \", current_device_name, '\\n')\n"
   ]
  },
  {
   "cell_type": "code",
   "execution_count": 3,
   "id": "62f99938",
   "metadata": {},
   "outputs": [],
   "source": [
    "# create WineDataset class\n",
    "class WineDataset(Dataset):\n",
    "\n",
    "    def __init__(self):\n",
    "        # Initialize data, download, etc.\n",
    "        # read with numpy or pandas\n",
    "        xy = np.loadtxt('./data/wine/wine.csv', delimiter=',', dtype=np.float32, skiprows=1)\n",
    "        self.n_samples = xy.shape[0]\n",
    "\n",
    "        # here the first column is the class label, the rest are the features\n",
    "        self.x_data = torch.from_numpy(xy[:, 1:]) # size [n_samples, n_features]\n",
    "        self.y_data = torch.from_numpy(xy[:, [0]]) # size [n_samples, 1]\n",
    "\n",
    "    # support indexing such that dataset[i] can be used to get i-th sample\n",
    "    def __getitem__(self, index):\n",
    "        return self.x_data[index], self.y_data[index]\n",
    "\n",
    "    # we can call len(dataset) to return the size\n",
    "    def __len__(self):\n",
    "        return self.n_samples"
   ]
  },
  {
   "cell_type": "code",
   "execution_count": 6,
   "id": "8d3c9196",
   "metadata": {},
   "outputs": [],
   "source": [
    "# create dataset\n",
    "dataset = WineDataset()"
   ]
  },
  {
   "cell_type": "code",
   "execution_count": 7,
   "id": "68c7dacd",
   "metadata": {},
   "outputs": [
    {
     "name": "stdout",
     "output_type": "stream",
     "text": [
      "tensor([1.4230e+01, 1.7100e+00, 2.4300e+00, 1.5600e+01, 1.2700e+02, 2.8000e+00,\n",
      "        3.0600e+00, 2.8000e-01, 2.2900e+00, 5.6400e+00, 1.0400e+00, 3.9200e+00,\n",
      "        1.0650e+03]) tensor([1.])\n"
     ]
    }
   ],
   "source": [
    "# get first sample and unpack\n",
    "first_data = dataset[0]\n",
    "features, labels = first_data\n",
    "print(features, labels)"
   ]
  },
  {
   "cell_type": "code",
   "execution_count": 8,
   "id": "06b44885",
   "metadata": {},
   "outputs": [],
   "source": [
    "# Create a dataloader\n",
    "dataloader = DataLoader(dataset, batch_size=5, shuffle=False)\n",
    "\n",
    "# Save the dataloader\n",
    "torch.save(dataloader, './data/wine/wine_dataset.pkl')"
   ]
  }
 ],
 "metadata": {
  "kernelspec": {
   "display_name": "Python 3",
   "language": "python",
   "name": "python3"
  },
  "language_info": {
   "codemirror_mode": {
    "name": "ipython",
    "version": 3
   },
   "file_extension": ".py",
   "mimetype": "text/x-python",
   "name": "python",
   "nbconvert_exporter": "python",
   "pygments_lexer": "ipython3",
   "version": "3.6.9"
  }
 },
 "nbformat": 4,
 "nbformat_minor": 5
}

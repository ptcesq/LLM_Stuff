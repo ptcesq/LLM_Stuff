{
 "cells": [
  {
   "cell_type": "markdown",
   "id": "3be2c3d7-e637-4ca0-b823-1442ce1ef014",
   "metadata": {},
   "source": [
    "# Running an LLM on your own laptop\n",
    "In this notebook, we're going to learn how to run a Hugging Face LLM on our own machine."
   ]
  },
  {
   "cell_type": "markdown",
   "id": "0c88379d-de11-4f6b-b3b2-dd1c86ec1f2d",
   "metadata": {},
   "source": [
    "## Download the LLM\n",
    "We're going to write some code to manually download the model."
   ]
  },
  {
   "cell_type": "code",
   "execution_count": 1,
   "id": "5eba955c-10f9-435a-8f5c-a4f3148214f6",
   "metadata": {
    "execution": {
     "iopub.execute_input": "2023-07-31T21:47:04.712381Z",
     "iopub.status.busy": "2023-07-31T21:47:04.711940Z",
     "iopub.status.idle": "2023-07-31T21:47:04.716609Z",
     "shell.execute_reply": "2023-07-31T21:47:04.714945Z",
     "shell.execute_reply.started": "2023-07-31T21:47:04.712355Z"
    }
   },
   "outputs": [],
   "source": [
    "import os\n",
    "from huggingface_hub import hf_hub_download"
   ]
  },
  {
   "cell_type": "code",
   "execution_count": 2,
   "id": "e1769883-5d03-45a6-89a4-53d97a2b31cb",
   "metadata": {
    "execution": {
     "iopub.execute_input": "2023-07-31T21:47:11.801528Z",
     "iopub.status.busy": "2023-07-31T21:47:11.801087Z",
     "iopub.status.idle": "2023-07-31T21:47:11.806484Z",
     "shell.execute_reply": "2023-07-31T21:47:11.805533Z",
     "shell.execute_reply.started": "2023-07-31T21:47:11.801503Z"
    }
   },
   "outputs": [],
   "source": [
    "HUGGING_FACE_API_KEY = os.environ.get(\"HUGGING_FACE_API_KEY\")"
   ]
  },
  {
   "cell_type": "code",
   "execution_count": 3,
   "id": "f5d4a3cf-3aef-48a2-9d9c-c0e6f47b8ae9",
   "metadata": {
    "execution": {
     "iopub.execute_input": "2023-07-31T21:47:35.032925Z",
     "iopub.status.busy": "2023-07-31T21:47:35.032483Z",
     "iopub.status.idle": "2023-07-31T21:47:35.036911Z",
     "shell.execute_reply": "2023-07-31T21:47:35.035883Z",
     "shell.execute_reply.started": "2023-07-31T21:47:35.032900Z"
    }
   },
   "outputs": [],
   "source": [
    "model_id = \"lmsys/fastchat-t5-3b-v1.0\"\n",
    "filenames = [\n",
    "        \"pytorch_model.bin\", \"added_tokens.json\", \"config.json\", \"generation_config.json\", \n",
    "        \"special_tokens_map.json\", \"spiece.model\", \"tokenizer_config.json\"\n",
    "]"
   ]
  },
  {
   "cell_type": "code",
   "execution_count": 4,
   "id": "8de36f22-0e89-4add-9c2b-bbb34c4d9d26",
   "metadata": {
    "execution": {
     "iopub.execute_input": "2023-07-31T21:47:59.770152Z",
     "iopub.status.busy": "2023-07-31T21:47:59.769784Z",
     "iopub.status.idle": "2023-07-31T21:48:00.700964Z",
     "shell.execute_reply": "2023-07-31T21:48:00.700440Z",
     "shell.execute_reply.started": "2023-07-31T21:47:59.770133Z"
    }
   },
   "outputs": [
    {
     "data": {
      "application/vnd.jupyter.widget-view+json": {
       "model_id": "99f451fca7ac4cf89bfc2514a3ea5a56",
       "version_major": 2,
       "version_minor": 0
      },
      "text/plain": [
       "pytorch_model.bin:   0%|          | 0.00/6.71G [00:00<?, ?B/s]"
      ]
     },
     "metadata": {},
     "output_type": "display_data"
    },
    {
     "name": "stderr",
     "output_type": "stream",
     "text": [
      "C:\\Users\\patri\\anaconda3\\Lib\\site-packages\\huggingface_hub\\file_download.py:149: UserWarning: `huggingface_hub` cache-system uses symlinks by default to efficiently store duplicated files but your machine does not support them in C:\\Users\\patri\\.cache\\huggingface\\hub\\models--lmsys--fastchat-t5-3b-v1.0. Caching files will still work but in a degraded version that might require more space on your disk. This warning can be disabled by setting the `HF_HUB_DISABLE_SYMLINKS_WARNING` environment variable. For more details, see https://huggingface.co/docs/huggingface_hub/how-to-cache#limitations.\n",
      "To support symlinks on Windows, you either need to activate Developer Mode or to run Python as an administrator. In order to see activate developer mode, see this article: https://docs.microsoft.com/en-us/windows/apps/get-started/enable-your-device-for-development\n",
      "  warnings.warn(message)\n"
     ]
    },
    {
     "name": "stdout",
     "output_type": "stream",
     "text": [
      "C:\\Users\\patri\\.cache\\huggingface\\hub\\models--lmsys--fastchat-t5-3b-v1.0\\snapshots\\0b1da230a891854102d749b93f7ddf1f18a81024\\pytorch_model.bin\n"
     ]
    },
    {
     "data": {
      "application/vnd.jupyter.widget-view+json": {
       "model_id": "0597bd76c4e04ba48f274b4923a0d053",
       "version_major": 2,
       "version_minor": 0
      },
      "text/plain": [
       "added_tokens.json:   0%|          | 0.00/150 [00:00<?, ?B/s]"
      ]
     },
     "metadata": {},
     "output_type": "display_data"
    },
    {
     "name": "stdout",
     "output_type": "stream",
     "text": [
      "C:\\Users\\patri\\.cache\\huggingface\\hub\\models--lmsys--fastchat-t5-3b-v1.0\\snapshots\\0b1da230a891854102d749b93f7ddf1f18a81024\\added_tokens.json\n"
     ]
    },
    {
     "data": {
      "application/vnd.jupyter.widget-view+json": {
       "model_id": "53511d86c7744d4c870b5f8896dfeea3",
       "version_major": 2,
       "version_minor": 0
      },
      "text/plain": [
       "config.json:   0%|          | 0.00/1.52k [00:00<?, ?B/s]"
      ]
     },
     "metadata": {},
     "output_type": "display_data"
    },
    {
     "name": "stdout",
     "output_type": "stream",
     "text": [
      "C:\\Users\\patri\\.cache\\huggingface\\hub\\models--lmsys--fastchat-t5-3b-v1.0\\snapshots\\0b1da230a891854102d749b93f7ddf1f18a81024\\config.json\n"
     ]
    },
    {
     "data": {
      "application/vnd.jupyter.widget-view+json": {
       "model_id": "81d7cf946d994c3ba7fe5c43f13ad1ff",
       "version_major": 2,
       "version_minor": 0
      },
      "text/plain": [
       "generation_config.json:   0%|          | 0.00/142 [00:00<?, ?B/s]"
      ]
     },
     "metadata": {},
     "output_type": "display_data"
    },
    {
     "name": "stdout",
     "output_type": "stream",
     "text": [
      "C:\\Users\\patri\\.cache\\huggingface\\hub\\models--lmsys--fastchat-t5-3b-v1.0\\snapshots\\0b1da230a891854102d749b93f7ddf1f18a81024\\generation_config.json\n"
     ]
    },
    {
     "data": {
      "application/vnd.jupyter.widget-view+json": {
       "model_id": "19fb453609a4485b9a6a1d07c9056c80",
       "version_major": 2,
       "version_minor": 0
      },
      "text/plain": [
       "special_tokens_map.json:   0%|          | 0.00/2.20k [00:00<?, ?B/s]"
      ]
     },
     "metadata": {},
     "output_type": "display_data"
    },
    {
     "name": "stdout",
     "output_type": "stream",
     "text": [
      "C:\\Users\\patri\\.cache\\huggingface\\hub\\models--lmsys--fastchat-t5-3b-v1.0\\snapshots\\0b1da230a891854102d749b93f7ddf1f18a81024\\special_tokens_map.json\n"
     ]
    },
    {
     "data": {
      "application/vnd.jupyter.widget-view+json": {
       "model_id": "52b2487adc65489f8129ccff15c51b3d",
       "version_major": 2,
       "version_minor": 0
      },
      "text/plain": [
       "spiece.model:   0%|          | 0.00/792k [00:00<?, ?B/s]"
      ]
     },
     "metadata": {},
     "output_type": "display_data"
    },
    {
     "name": "stdout",
     "output_type": "stream",
     "text": [
      "C:\\Users\\patri\\.cache\\huggingface\\hub\\models--lmsys--fastchat-t5-3b-v1.0\\snapshots\\0b1da230a891854102d749b93f7ddf1f18a81024\\spiece.model\n"
     ]
    },
    {
     "data": {
      "application/vnd.jupyter.widget-view+json": {
       "model_id": "9179977e33294f2ca26a6ae0ef147a0f",
       "version_major": 2,
       "version_minor": 0
      },
      "text/plain": [
       "tokenizer_config.json:   0%|          | 0.00/2.40k [00:00<?, ?B/s]"
      ]
     },
     "metadata": {},
     "output_type": "display_data"
    },
    {
     "name": "stdout",
     "output_type": "stream",
     "text": [
      "C:\\Users\\patri\\.cache\\huggingface\\hub\\models--lmsys--fastchat-t5-3b-v1.0\\snapshots\\0b1da230a891854102d749b93f7ddf1f18a81024\\tokenizer_config.json\n"
     ]
    }
   ],
   "source": [
    "for filename in filenames:\n",
    "        downloaded_model_path = hf_hub_download(\n",
    "                    repo_id=model_id,\n",
    "                    filename=filename,\n",
    "                    token=HUGGING_FACE_API_KEY\n",
    "        )\n",
    "        print(downloaded_model_path)"
   ]
  },
  {
   "cell_type": "markdown",
   "id": "d5b4ad22-2e7d-40d9-978b-b730bd06b141",
   "metadata": {},
   "source": [
    "## Run the LLM\n",
    "Now let's try running the model. But before we do that, let's disable the Wi-Fi."
   ]
  },
  {
   "cell_type": "code",
   "execution_count": null,
   "id": "c19af057-97a1-444c-afd3-fdcd283c934e",
   "metadata": {
    "execution": {
     "iopub.execute_input": "2023-07-31T21:48:33.787858Z",
     "iopub.status.busy": "2023-07-31T21:48:33.787384Z",
     "iopub.status.idle": "2023-07-31T21:48:34.671620Z",
     "shell.execute_reply": "2023-07-31T21:48:34.670611Z",
     "shell.execute_reply.started": "2023-07-31T21:48:33.787835Z"
    }
   },
   "outputs": [],
   "source": [
    "# You don't have to run this cell \n",
    "from utils import check_connectivity, toggle_wifi\n",
    "import time\n",
    "\n",
    "print(check_connectivity())\n",
    "toggle_wifi(\"off\")\n",
    "time.sleep(0.5)\n",
    "print(check_connectivity())"
   ]
  },
  {
   "cell_type": "code",
   "execution_count": 7,
   "id": "7aee59d5",
   "metadata": {},
   "outputs": [
    {
     "ename": "ImportError",
     "evalue": "cannot import name 'pipeline' from 'transformers' (C:\\Users\\patri\\anaconda3\\Lib\\site-packages\\transformers\\__init__.py)",
     "output_type": "error",
     "traceback": [
      "\u001b[1;31m---------------------------------------------------------------------------\u001b[0m",
      "\u001b[1;31mImportError\u001b[0m                               Traceback (most recent call last)",
      "Cell \u001b[1;32mIn[7], line 1\u001b[0m\n\u001b[1;32m----> 1\u001b[0m \u001b[38;5;28;01mfrom\u001b[39;00m \u001b[38;5;21;01mtransformers\u001b[39;00m \u001b[38;5;28;01mimport\u001b[39;00m AutoTokenizer, pipeline, AutoModelForSeq2SeqLM\n",
      "\u001b[1;31mImportError\u001b[0m: cannot import name 'pipeline' from 'transformers' (C:\\Users\\patri\\anaconda3\\Lib\\site-packages\\transformers\\__init__.py)"
     ]
    }
   ],
   "source": [
    "from transformers import AutoTokenizer, pipeline, AutoModelForSeq2SeqLM"
   ]
  },
  {
   "cell_type": "code",
   "execution_count": 6,
   "id": "ba850f47-09e6-4b3d-9042-e4df427b0f09",
   "metadata": {
    "execution": {
     "iopub.execute_input": "2023-07-31T21:49:12.517620Z",
     "iopub.status.busy": "2023-07-31T21:49:12.517270Z",
     "iopub.status.idle": "2023-07-31T21:49:40.777536Z",
     "shell.execute_reply": "2023-07-31T21:49:40.777150Z",
     "shell.execute_reply.started": "2023-07-31T21:49:12.517594Z"
    }
   },
   "outputs": [
    {
     "ename": "ImportError",
     "evalue": "cannot import name 'AutoModelForCausalLM' from 'transformers' (C:\\Users\\patri\\anaconda3\\Lib\\site-packages\\transformers\\__init__.py)",
     "output_type": "error",
     "traceback": [
      "\u001b[1;31m---------------------------------------------------------------------------\u001b[0m",
      "\u001b[1;31mImportError\u001b[0m                               Traceback (most recent call last)",
      "Cell \u001b[1;32mIn[6], line 1\u001b[0m\n\u001b[1;32m----> 1\u001b[0m \u001b[38;5;28;01mfrom\u001b[39;00m \u001b[38;5;21;01mtransformers\u001b[39;00m \u001b[38;5;28;01mimport\u001b[39;00m AutoTokenizer, AutoModelForCausalLM, pipeline, AutoModelForSeq2SeqLM\n\u001b[0;32m      3\u001b[0m tokenizer \u001b[38;5;241m=\u001b[39m AutoTokenizer\u001b[38;5;241m.\u001b[39mfrom_pretrained(model_id, legacy\u001b[38;5;241m=\u001b[39m\u001b[38;5;28;01mFalse\u001b[39;00m)\n\u001b[0;32m      4\u001b[0m model \u001b[38;5;241m=\u001b[39m AutoModelForSeq2SeqLM\u001b[38;5;241m.\u001b[39mfrom_pretrained(model_id)\n",
      "\u001b[1;31mImportError\u001b[0m: cannot import name 'AutoModelForCausalLM' from 'transformers' (C:\\Users\\patri\\anaconda3\\Lib\\site-packages\\transformers\\__init__.py)"
     ]
    }
   ],
   "source": [
    "from transformers import AutoTokenizer, pipeline, AutoModelForSeq2SeqLM\n",
    "\n",
    "tokenizer = AutoTokenizer.from_pretrained(model_id, legacy=False)\n",
    "model = AutoModelForSeq2SeqLM.from_pretrained(model_id)\n",
    "\n",
    "pipeline = pipeline(\"text2text-generation\", model=model, device=-1, tokenizer=tokenizer, max_length=1000)"
   ]
  },
  {
   "cell_type": "code",
   "execution_count": null,
   "id": "93138286-8497-4730-9da4-3f52390bd380",
   "metadata": {
    "execution": {
     "iopub.execute_input": "2023-07-31T21:49:52.818571Z",
     "iopub.status.busy": "2023-07-31T21:49:52.817832Z",
     "iopub.status.idle": "2023-07-31T21:50:03.906446Z",
     "shell.execute_reply": "2023-07-31T21:50:03.906151Z",
     "shell.execute_reply.started": "2023-07-31T21:49:52.818537Z"
    }
   },
   "outputs": [],
   "source": [
    "pipeline(\"What are competitors to Apache Kafka?\")"
   ]
  },
  {
   "cell_type": "code",
   "execution_count": null,
   "id": "ca79ce5d-2e44-446c-a899-d9ecc4b77caa",
   "metadata": {
    "execution": {
     "iopub.execute_input": "2023-07-31T21:50:28.502177Z",
     "iopub.status.busy": "2023-07-31T21:50:28.501810Z",
     "iopub.status.idle": "2023-07-31T21:50:33.145049Z",
     "shell.execute_reply": "2023-07-31T21:50:33.144699Z",
     "shell.execute_reply.started": "2023-07-31T21:50:28.502152Z"
    }
   },
   "outputs": [],
   "source": [
    "pipeline(\"\"\"My name is Mark.\n",
    "I have brothers called David and John and my best friend is Michael.\n",
    "Using only the context above. Do you know if I have a sister?    \n",
    "\"\"\")"
   ]
  }
 ],
 "metadata": {
  "kernelspec": {
   "display_name": "Python 3 (ipykernel)",
   "language": "python",
   "name": "python3"
  },
  "language_info": {
   "codemirror_mode": {
    "name": "ipython",
    "version": 3
   },
   "file_extension": ".py",
   "mimetype": "text/x-python",
   "name": "python",
   "nbconvert_exporter": "python",
   "pygments_lexer": "ipython3",
   "version": "3.11.5"
  }
 },
 "nbformat": 4,
 "nbformat_minor": 5
}

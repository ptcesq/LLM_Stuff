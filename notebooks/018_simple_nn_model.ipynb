{
 "cells": [
  {
   "cell_type": "markdown",
   "id": "f0039738",
   "metadata": {},
   "source": [
    "# Simple Linear Regression Model with a Neural Network  \n",
    "In this network we will create a linear regression model with NN "
   ]
  },
  {
   "cell_type": "code",
   "execution_count": 1,
   "id": "76e3161a",
   "metadata": {},
   "outputs": [],
   "source": [
    "# import libraries \n",
    "import torch \n",
    "from torch import nn \n",
    "import pandas as pd \n",
    "import matplotlib.pyplot as plt \n",
    "from tqdm import tqdm "
   ]
  },
  {
   "cell_type": "code",
   "execution_count": 2,
   "id": "5da22489",
   "metadata": {},
   "outputs": [
    {
     "data": {
      "text/html": [
       "<div>\n",
       "<style scoped>\n",
       "    .dataframe tbody tr th:only-of-type {\n",
       "        vertical-align: middle;\n",
       "    }\n",
       "\n",
       "    .dataframe tbody tr th {\n",
       "        vertical-align: top;\n",
       "    }\n",
       "\n",
       "    .dataframe thead th {\n",
       "        text-align: right;\n",
       "    }\n",
       "</style>\n",
       "<table border=\"1\" class=\"dataframe\">\n",
       "  <thead>\n",
       "    <tr style=\"text-align: right;\">\n",
       "      <th></th>\n",
       "      <th>M</th>\n",
       "      <th>X</th>\n",
       "      <th>B</th>\n",
       "      <th>e</th>\n",
       "      <th>y</th>\n",
       "    </tr>\n",
       "  </thead>\n",
       "  <tbody>\n",
       "    <tr>\n",
       "      <th>0</th>\n",
       "      <td>2.5</td>\n",
       "      <td>0</td>\n",
       "      <td>3</td>\n",
       "      <td>-13.366893</td>\n",
       "      <td>-10.366893</td>\n",
       "    </tr>\n",
       "    <tr>\n",
       "      <th>1</th>\n",
       "      <td>2.5</td>\n",
       "      <td>1</td>\n",
       "      <td>3</td>\n",
       "      <td>37.309246</td>\n",
       "      <td>42.809246</td>\n",
       "    </tr>\n",
       "    <tr>\n",
       "      <th>2</th>\n",
       "      <td>2.5</td>\n",
       "      <td>2</td>\n",
       "      <td>3</td>\n",
       "      <td>-15.015369</td>\n",
       "      <td>-7.015369</td>\n",
       "    </tr>\n",
       "    <tr>\n",
       "      <th>3</th>\n",
       "      <td>2.5</td>\n",
       "      <td>3</td>\n",
       "      <td>3</td>\n",
       "      <td>45.163731</td>\n",
       "      <td>55.663731</td>\n",
       "    </tr>\n",
       "    <tr>\n",
       "      <th>4</th>\n",
       "      <td>2.5</td>\n",
       "      <td>4</td>\n",
       "      <td>3</td>\n",
       "      <td>11.095344</td>\n",
       "      <td>24.095344</td>\n",
       "    </tr>\n",
       "  </tbody>\n",
       "</table>\n",
       "</div>"
      ],
      "text/plain": [
       "     M  X  B          e          y\n",
       "0  2.5  0  3 -13.366893 -10.366893\n",
       "1  2.5  1  3  37.309246  42.809246\n",
       "2  2.5  2  3 -15.015369  -7.015369\n",
       "3  2.5  3  3  45.163731  55.663731\n",
       "4  2.5  4  3  11.095344  24.095344"
      ]
     },
     "execution_count": 2,
     "metadata": {},
     "output_type": "execute_result"
    }
   ],
   "source": [
    "# import the data - this was created with the prior notebook.  y = 2.5M + 3 + e\n",
    "fileIn = '/mnt/thumb/LLM_Stuff/notebooks/data/sample_data.csv'\n",
    "df = pd.read_csv(fileIn)\n",
    "df.head()"
   ]
  },
  {
   "cell_type": "code",
   "execution_count": 3,
   "id": "274dce16",
   "metadata": {},
   "outputs": [
    {
     "data": {
      "text/plain": [
       "<matplotlib.axes._subplots.AxesSubplot at 0x7f2866aa58>"
      ]
     },
     "execution_count": 3,
     "metadata": {},
     "output_type": "execute_result"
    },
    {
     "data": {
      "image/png": "[encoded data removed]",
      "text/plain": [
       "<matplotlib.figure.Figure at 0x7f2866a160>"
      ]
     },
     "metadata": {
      "needs_background": "light"
     },
     "output_type": "display_data"
    }
   ],
   "source": [
    "# plot the X,y coordinates \n",
    "df.plot.scatter('X', 'y')"
   ]
  },
  {
   "cell_type": "code",
   "execution_count": 4,
   "id": "59c0fb31",
   "metadata": {},
   "outputs": [],
   "source": [
    "# create the model \n",
    "\n",
    "class SimpleLinearRegression(nn.Module): \n",
    "    \n",
    "    def __init__(self):\n",
    "        super().__init__()\n",
    "        self.weights = nn.Parameter(torch.tensor(1.0), requires_grad=True)\n",
    "        self.bias = nn.Parameter(torch.tensor(1.0), requires_grad=True)\n",
    "        self.double()\n",
    "        \n",
    "    def forward(self, data: torch.tensor) -> torch.Tensor:\n",
    "        return self.weights * data + self.bias \n",
    "    "
   ]
  },
  {
   "cell_type": "code",
   "execution_count": 5,
   "id": "3072cbab",
   "metadata": {},
   "outputs": [],
   "source": [
    "# instantiate the model \n",
    "model = SimpleLinearRegression()"
   ]
  },
  {
   "cell_type": "code",
   "execution_count": 6,
   "id": "518c2332",
   "metadata": {},
   "outputs": [
    {
     "data": {
      "text/plain": [
       "SimpleLinearRegression()"
      ]
     },
     "execution_count": 6,
     "metadata": {},
     "output_type": "execute_result"
    }
   ],
   "source": [
    "model"
   ]
  },
  {
   "cell_type": "code",
   "execution_count": 7,
   "id": "e427ecb4",
   "metadata": {},
   "outputs": [
    {
     "name": "stdout",
     "output_type": "stream",
     "text": [
      "weights tensor(1., dtype=torch.float64)\n",
      "bias tensor(1., dtype=torch.float64)\n"
     ]
    }
   ],
   "source": [
    "# take a peek inside \n",
    "for name, param in model.named_parameters(): \n",
    "    print(name, param.data)"
   ]
  },
  {
   "cell_type": "code",
   "execution_count": 8,
   "id": "52b4de41",
   "metadata": {},
   "outputs": [
    {
     "data": {
      "text/plain": [
       "(torch.Size([100]), torch.Size([100]))"
      ]
     },
     "execution_count": 8,
     "metadata": {},
     "output_type": "execute_result"
    }
   ],
   "source": [
    "# create tensors with the data \n",
    "X = torch.tensor(df.X.to_numpy())\n",
    "y = torch.tensor(df.y.to_numpy())\n",
    "X.shape, y.shape\n"
   ]
  },
  {
   "cell_type": "code",
   "execution_count": 9,
   "id": "7402a7c8",
   "metadata": {},
   "outputs": [],
   "source": [
    "# Make your intial niaeve predictions (no processing has occurred) \n",
    "pred_y = model(X)"
   ]
  },
  {
   "cell_type": "code",
   "execution_count": 10,
   "id": "b1641d3d",
   "metadata": {},
   "outputs": [
    {
     "data": {
      "text/plain": [
       "<matplotlib.collections.PathCollection at 0x7f25d107b8>"
      ]
     },
     "execution_count": 10,
     "metadata": {},
     "output_type": "execute_result"
    },
    {
     "data": {
      "image/png": "[encoded data removed]",
      "text/plain": [
       "<matplotlib.figure.Figure at 0x7f2760ad30>"
      ]
     },
     "metadata": {
      "needs_background": "light"
     },
     "output_type": "display_data"
    }
   ],
   "source": [
    "# plot the untrained model \n",
    "plt.figure(figsize=(12,10))\n",
    "plt.scatter(X.detach().numpy(), y.detach().numpy(), color=\"g\")\n",
    "plt.scatter(X.detach().numpy(), pred_y.detach().numpy(), color=\"r\")"
   ]
  },
  {
   "cell_type": "markdown",
   "id": "06b35e05",
   "metadata": {},
   "source": [
    "## Training Section "
   ]
  },
  {
   "cell_type": "code",
   "execution_count": 11,
   "id": "72f61579",
   "metadata": {},
   "outputs": [],
   "source": [
    "loss_fn = nn.MSELoss()\n",
    "optimizer = torch.optim.Adam(params=model.parameters(), lr=0.01)"
   ]
  },
  {
   "cell_type": "code",
   "execution_count": 12,
   "id": "3f95a4b0",
   "metadata": {},
   "outputs": [
    {
     "name": "stderr",
     "output_type": "stream",
     "text": [
      "100%|██████████| 100000/100000 [01:54<00:00, 876.37it/s]\n"
     ]
    }
   ],
   "source": [
    "losses = []\n",
    "for i in tqdm(range(100_000)):\n",
    "    pred_y = model(X)\n",
    "    \n",
    "    loss = loss_fn(pred_y, y)\n",
    "    if i % 10000 == 0: \n",
    "        losses.append(loss.item())\n",
    "        \n",
    "    optimizer.zero_grad()\n",
    "    loss.backward()\n",
    "    optimizer.step()             \n",
    "              "
   ]
  },
  {
   "cell_type": "markdown",
   "id": "d3f24fdf",
   "metadata": {},
   "source": [
    "## Model Evaluation "
   ]
  },
  {
   "cell_type": "code",
   "execution_count": 13,
   "id": "d5b26147",
   "metadata": {},
   "outputs": [
    {
     "data": {
      "text/plain": [
       "[<matplotlib.lines.Line2D at 0x7f25aacb38>]"
      ]
     },
     "execution_count": 13,
     "metadata": {},
     "output_type": "execute_result"
    },
    {
     "data": {
      "image/png": "[encoded data removed]",
      "text/plain": [
       "<matplotlib.figure.Figure at 0x7f27569390>"
      ]
     },
     "metadata": {
      "needs_background": "light"
     },
     "output_type": "display_data"
    }
   ],
   "source": [
    "# Plot your losses \n",
    "plt.plot(losses)"
   ]
  },
  {
   "cell_type": "markdown",
   "id": "efa0b984",
   "metadata": {},
   "source": [
    "## Evaluate Predictions "
   ]
  },
  {
   "cell_type": "code",
   "execution_count": 14,
   "id": "dc0aff78",
   "metadata": {},
   "outputs": [
    {
     "name": "stdout",
     "output_type": "stream",
     "text": [
      "weights tensor(2.5233, dtype=torch.float64)\n",
      "bias tensor(0.1485, dtype=torch.float64)\n"
     ]
    }
   ],
   "source": [
    "# look at current weights \n",
    "for name, param in model.named_parameters(): \n",
    "    print(name, param.data)"
   ]
  },
  {
   "cell_type": "code",
   "execution_count": 16,
   "id": "c78ab177",
   "metadata": {},
   "outputs": [
    {
     "data": {
      "text/plain": [
       "<matplotlib.collections.PathCollection at 0x7f25bc1c88>"
      ]
     },
     "execution_count": 16,
     "metadata": {},
     "output_type": "execute_result"
    },
    {
     "data": {
      "image/png": "[encoded data removed]",
      "text/plain": [
       "<matplotlib.figure.Figure at 0x7f25d4c8d0>"
      ]
     },
     "metadata": {
      "needs_background": "light"
     },
     "output_type": "display_data"
    }
   ],
   "source": [
    "# Plot the trained model\n",
    "plt.figure(figsize=(12,10))\n",
    "plt.scatter(X.detach().numpy(), y.detach().numpy(), color=\"g\")\n",
    "plt.scatter(X.detach().numpy(), pred_y.detach().numpy(), color=\"r\")"
   ]
  }
 ],
 "metadata": {
  "kernelspec": {
   "display_name": "Python 3",
   "language": "python",
   "name": "python3"
  },
  "language_info": {
   "codemirror_mode": {
    "name": "ipython",
    "version": 3
   },
   "file_extension": ".py",
   "mimetype": "text/x-python",
   "name": "python",
   "nbconvert_exporter": "python",
   "pygments_lexer": "ipython3",
   "version": "3.6.9"
  }
 },
 "nbformat": 4,
 "nbformat_minor": 5
}

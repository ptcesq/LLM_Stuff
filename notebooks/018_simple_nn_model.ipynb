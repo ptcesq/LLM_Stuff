{
 "cells": [
  {
   "cell_type": "markdown",
   "id": "278671fe",
   "metadata": {},
   "source": [
    "# Simple Linear Regression Model with a Neural Network  \n",
    "In this network we will create a linear regression model with NN "
   ]
  },
  {
   "cell_type": "code",
   "execution_count": 34,
   "id": "ab62abea",
   "metadata": {},
   "outputs": [],
   "source": [
    "# import libraries \n",
    "import torch \n",
    "from torch import nn \n",
    "import pandas as pd \n",
    "import matplotlib.pyplot as plt \n",
    "from tqdm import tqdm "
   ]
  },
  {
   "cell_type": "code",
   "execution_count": 35,
   "id": "b0601b34",
   "metadata": {},
   "outputs": [
    {
     "data": {
      "text/html": [
       "<div>\n",
       "<style scoped>\n",
       "    .dataframe tbody tr th:only-of-type {\n",
       "        vertical-align: middle;\n",
       "    }\n",
       "\n",
       "    .dataframe tbody tr th {\n",
       "        vertical-align: top;\n",
       "    }\n",
       "\n",
       "    .dataframe thead th {\n",
       "        text-align: right;\n",
       "    }\n",
       "</style>\n",
       "<table border=\"1\" class=\"dataframe\">\n",
       "  <thead>\n",
       "    <tr style=\"text-align: right;\">\n",
       "      <th></th>\n",
       "      <th>M</th>\n",
       "      <th>X</th>\n",
       "      <th>B</th>\n",
       "      <th>e</th>\n",
       "      <th>y</th>\n",
       "    </tr>\n",
       "  </thead>\n",
       "  <tbody>\n",
       "    <tr>\n",
       "      <th>0</th>\n",
       "      <td>100</td>\n",
       "      <td>0</td>\n",
       "      <td>3</td>\n",
       "      <td>1647.179253</td>\n",
       "      <td>1650.179253</td>\n",
       "    </tr>\n",
       "    <tr>\n",
       "      <th>1</th>\n",
       "      <td>100</td>\n",
       "      <td>1</td>\n",
       "      <td>3</td>\n",
       "      <td>1987.339003</td>\n",
       "      <td>2090.339003</td>\n",
       "    </tr>\n",
       "    <tr>\n",
       "      <th>2</th>\n",
       "      <td>100</td>\n",
       "      <td>2</td>\n",
       "      <td>3</td>\n",
       "      <td>1215.267539</td>\n",
       "      <td>1418.267539</td>\n",
       "    </tr>\n",
       "    <tr>\n",
       "      <th>3</th>\n",
       "      <td>100</td>\n",
       "      <td>3</td>\n",
       "      <td>3</td>\n",
       "      <td>3608.254932</td>\n",
       "      <td>3911.254932</td>\n",
       "    </tr>\n",
       "    <tr>\n",
       "      <th>4</th>\n",
       "      <td>100</td>\n",
       "      <td>4</td>\n",
       "      <td>3</td>\n",
       "      <td>3589.332138</td>\n",
       "      <td>3992.332138</td>\n",
       "    </tr>\n",
       "  </tbody>\n",
       "</table>\n",
       "</div>"
      ],
      "text/plain": [
       "     M  X  B            e            y\n",
       "0  100  0  3  1647.179253  1650.179253\n",
       "1  100  1  3  1987.339003  2090.339003\n",
       "2  100  2  3  1215.267539  1418.267539\n",
       "3  100  3  3  3608.254932  3911.254932\n",
       "4  100  4  3  3589.332138  3992.332138"
      ]
     },
     "execution_count": 35,
     "metadata": {},
     "output_type": "execute_result"
    }
   ],
   "source": [
    "# import the data - this was created with the prior notebook.  y = 2.5M + 3 + e\n",
    "fileIn = '/mnt/thumb/LLM_Stuff/data/sample_data.csv'\n",
    "df = pd.read_csv(fileIn)\n",
    "df.head()"
   ]
  },
  {
   "cell_type": "code",
   "execution_count": 36,
   "id": "779a06df",
   "metadata": {},
   "outputs": [
    {
     "data": {
      "text/plain": [
       "<matplotlib.axes._subplots.AxesSubplot at 0x7f2415d9b0>"
      ]
     },
     "execution_count": 36,
     "metadata": {},
     "output_type": "execute_result"
    },
    {
     "data": {
      "image/png": "[encoded data removed]",
      "text/plain": [
       "<matplotlib.figure.Figure at 0x7f241a5b00>"
      ]
     },
     "metadata": {
      "needs_background": "light"
     },
     "output_type": "display_data"
    }
   ],
   "source": [
    "# plot the X,y coordinates \n",
    "df.plot.scatter('X', 'y')"
   ]
  },
  {
   "cell_type": "code",
   "execution_count": 37,
   "id": "1dabff21",
   "metadata": {},
   "outputs": [],
   "source": [
    "# create the model \n",
    "\n",
    "class SimpleLinearRegression(nn.Module): \n",
    "    \n",
    "    def __init__(self):\n",
    "        super().__init__()\n",
    "        self.weights = nn.Parameter(torch.tensor(1.0), requires_grad=True)\n",
    "        self.bias = nn.Parameter(torch.tensor(1.0), requires_grad=True)\n",
    "        self.double()\n",
    "        \n",
    "    def forward(self, data: torch.tensor) -> torch.Tensor:\n",
    "        return self.weights * data + self.bias \n",
    "    "
   ]
  },
  {
   "cell_type": "code",
   "execution_count": 38,
   "id": "ae391642",
   "metadata": {},
   "outputs": [],
   "source": [
    "# instantiate the model \n",
    "model = SimpleLinearRegression()"
   ]
  },
  {
   "cell_type": "code",
   "execution_count": 39,
   "id": "bb3da8f0",
   "metadata": {},
   "outputs": [
    {
     "data": {
      "text/plain": [
       "SimpleLinearRegression()"
      ]
     },
     "execution_count": 39,
     "metadata": {},
     "output_type": "execute_result"
    }
   ],
   "source": [
    "model"
   ]
  },
  {
   "cell_type": "code",
   "execution_count": 40,
   "id": "35da1bf8",
   "metadata": {},
   "outputs": [
    {
     "name": "stdout",
     "output_type": "stream",
     "text": [
      "weights tensor(1., dtype=torch.float64)\n",
      "bias tensor(1., dtype=torch.float64)\n"
     ]
    }
   ],
   "source": [
    "# take a peek inside \n",
    "for name, param in model.named_parameters(): \n",
    "    print(name, param.data)"
   ]
  },
  {
   "cell_type": "code",
   "execution_count": 41,
   "id": "22ede6c6",
   "metadata": {},
   "outputs": [
    {
     "data": {
      "text/plain": [
       "(torch.Size([100]), torch.Size([100]))"
      ]
     },
     "execution_count": 41,
     "metadata": {},
     "output_type": "execute_result"
    }
   ],
   "source": [
    "# create tensors with the data \n",
    "X = torch.tensor(df.X.to_numpy())\n",
    "y = torch.tensor(df.y.to_numpy())\n",
    "X.shape, y.shape\n"
   ]
  },
  {
   "cell_type": "code",
   "execution_count": 42,
   "id": "f5463002",
   "metadata": {},
   "outputs": [],
   "source": [
    "# Make your intial niaeve predictions (no processing has occurred) \n",
    "pred_y = model(X)"
   ]
  },
  {
   "cell_type": "code",
   "execution_count": 43,
   "id": "c2a06d79",
   "metadata": {},
   "outputs": [
    {
     "data": {
      "text/plain": [
       "<matplotlib.collections.PathCollection at 0x7f24049898>"
      ]
     },
     "execution_count": 43,
     "metadata": {},
     "output_type": "execute_result"
    },
    {
     "data": {
      "image/png": "[encoded data removed]",
      "text/plain": [
       "<matplotlib.figure.Figure at 0x7f240c4080>"
      ]
     },
     "metadata": {
      "needs_background": "light"
     },
     "output_type": "display_data"
    }
   ],
   "source": [
    "# plot the untrained model \n",
    "plt.figure(figsize=(12,10))\n",
    "plt.scatter(X.detach().numpy(), y.detach().numpy(), color=\"g\")\n",
    "plt.scatter(X.detach().numpy(), pred_y.detach().numpy(), color=\"r\")"
   ]
  },
  {
   "cell_type": "markdown",
   "id": "d6e843d7",
   "metadata": {},
   "source": [
    "## Training Section "
   ]
  },
  {
   "cell_type": "code",
   "execution_count": 44,
   "id": "cbaf203e",
   "metadata": {},
   "outputs": [],
   "source": [
    "loss_fn = nn.MSELoss()\n",
    "optimizer = torch.optim.Adam(params=model.parameters(), lr=0.01)"
   ]
  },
  {
   "cell_type": "code",
   "execution_count": null,
   "id": "10605cdb",
   "metadata": {},
   "outputs": [
    {
     "name": "stderr",
     "output_type": "stream",
     "text": [
      " 64%|██████▍   | 63782/100000 [01:09<00:39, 908.98it/s]"
     ]
    }
   ],
   "source": [
    "losses = []\n",
    "for i in tqdm(range(100_000)):\n",
    "    pred_y = model(X)\n",
    "    \n",
    "    loss = loss_fn(pred_y, y)\n",
    "    if i % 10000 == 0: \n",
    "        losses.append(loss.item())\n",
    "        \n",
    "    optimizer.zero_grad()\n",
    "    loss.backward()\n",
    "    optimizer.step()             \n",
    "              "
   ]
  },
  {
   "cell_type": "markdown",
   "id": "60785f40",
   "metadata": {},
   "source": [
    "## Model Evaluation "
   ]
  },
  {
   "cell_type": "code",
   "execution_count": 31,
   "id": "b1ec4b37",
   "metadata": {},
   "outputs": [
    {
     "data": {
      "text/plain": [
       "[<matplotlib.lines.Line2D at 0x7f241a5438>]"
      ]
     },
     "execution_count": 31,
     "metadata": {},
     "output_type": "execute_result"
    },
    {
     "data": {
      "image/png": "[encoded data removed]",
      "text/plain": [
       "<matplotlib.figure.Figure at 0x7f2421d470>"
      ]
     },
     "metadata": {
      "needs_background": "light"
     },
     "output_type": "display_data"
    }
   ],
   "source": [
    "# Plot your losses \n",
    "plt.plot(losses)"
   ]
  },
  {
   "cell_type": "markdown",
   "id": "fc79d3e3",
   "metadata": {},
   "source": [
    "## Evaluate Predictions "
   ]
  },
  {
   "cell_type": "code",
   "execution_count": 32,
   "id": "76daa565",
   "metadata": {},
   "outputs": [
    {
     "name": "stdout",
     "output_type": "stream",
     "text": [
      "weights tensor(49.9951, dtype=torch.float64)\n",
      "bias tensor(2.2511, dtype=torch.float64)\n"
     ]
    }
   ],
   "source": [
    "# look at current weights \n",
    "for name, param in model.named_parameters(): \n",
    "    print(name, param.data)"
   ]
  },
  {
   "cell_type": "code",
   "execution_count": 33,
   "id": "0be8de84",
   "metadata": {},
   "outputs": [
    {
     "data": {
      "text/plain": [
       "<matplotlib.collections.PathCollection at 0x7f241089b0>"
      ]
     },
     "execution_count": 33,
     "metadata": {},
     "output_type": "execute_result"
    },
    {
     "data": {
      "image/png": "[encoded data removed]",
      "text/plain": [
       "<matplotlib.figure.Figure at 0x7f241ea9e8>"
      ]
     },
     "metadata": {
      "needs_background": "light"
     },
     "output_type": "display_data"
    }
   ],
   "source": [
    "# Plot the trained model\n",
    "plt.figure(figsize=(12,10))\n",
    "plt.scatter(X.detach().numpy(), y.detach().numpy(), color=\"g\")\n",
    "plt.scatter(X.detach().numpy(), pred_y.detach().numpy(), color=\"r\")"
   ]
  },
  {
   "cell_type": "code",
   "execution_count": null,
   "id": "10ac118b",
   "metadata": {},
   "outputs": [],
   "source": []
  }
 ],
 "metadata": {
  "kernelspec": {
   "display_name": "Python 3 (ipykernel)",
   "language": "python",
   "name": "python3"
  },
  "language_info": {
   "codemirror_mode": {
    "name": "ipython",
    "version": 3
   },
   "file_extension": ".py",
   "mimetype": "text/x-python",
   "name": "python",
   "nbconvert_exporter": "python",
   "pygments_lexer": "ipython3",
   "version": "3.10.14"
  }
 },
 "nbformat": 4,
 "nbformat_minor": 5
}

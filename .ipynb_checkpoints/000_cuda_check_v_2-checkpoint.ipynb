{
 "cells": [
  {
   "cell_type": "code",
   "execution_count": 9,
   "id": "ea4d2b48",
   "metadata": {},
   "outputs": [],
   "source": [
    "import torch as tr "
   ]
  },
  {
   "cell_type": "code",
   "execution_count": 10,
   "id": "e9dd4072",
   "metadata": {},
   "outputs": [
    {
     "name": "stdout",
     "output_type": "stream",
     "text": [
      "Cuda Version:  1.10.0 \n",
      "\n"
     ]
    }
   ],
   "source": [
    "# Check cuda version \n",
    "cuda_version = tr.__version__\n",
    "print(\"Cuda Version: \", cuda_version, '\\n')"
   ]
  },
  {
   "cell_type": "code",
   "execution_count": 11,
   "id": "27a19b98",
   "metadata": {},
   "outputs": [
    {
     "name": "stdout",
     "output_type": "stream",
     "text": [
      "Cuda is Available:  True \n",
      "\n"
     ]
    }
   ],
   "source": [
    "# ee if we have a cuda device \n",
    "cuda_available = tr.cuda.is_available()\n",
    "print(\"Cuda is Available: \", cuda_available, '\\n')"
   ]
  },
  {
   "cell_type": "code",
   "execution_count": 12,
   "id": "fbc84407",
   "metadata": {},
   "outputs": [
    {
     "name": "stdout",
     "output_type": "stream",
     "text": [
      "Device Count:  1 \n",
      "\n"
     ]
    }
   ],
   "source": [
    "# get the cuda count \n",
    "cuda_count = tr.cuda.device_count()\n",
    "print(\"Device Count: \", cuda_count, '\\n')"
   ]
  },
  {
   "cell_type": "code",
   "execution_count": 13,
   "id": "eff5d921",
   "metadata": {},
   "outputs": [
    {
     "name": "stdout",
     "output_type": "stream",
     "text": [
      "Current Device:  0 \n",
      "\n"
     ]
    }
   ],
   "source": [
    "# get the current device \n",
    "current_device = tr.cuda.current_device()\n",
    "print(\"Current Device: \", current_device, '\\n')"
   ]
  },
  {
   "cell_type": "code",
   "execution_count": 14,
   "id": "44c07ef9",
   "metadata": {},
   "outputs": [
    {
     "name": "stdout",
     "output_type": "stream",
     "text": [
      "Current Device Name:  NVIDIA Tegra X1 \n",
      "\n"
     ]
    }
   ],
   "source": [
    "# print the name of the current name \n",
    "current_device_name = tr.cuda.get_device_name(0) \n",
    "print(\"Current Device Name: \", current_device_name, '\\n') "
   ]
  },
  {
   "cell_type": "code",
   "execution_count": 15,
   "id": "769efffb",
   "metadata": {},
   "outputs": [
    {
     "name": "stdout",
     "output_type": "stream",
     "text": [
      "tensor([[0.8040, 0.9250, 0.9718, 0.2459],\n",
      "        [0.2545, 0.0844, 0.0370, 0.8750],\n",
      "        [0.8017, 0.0530, 0.8799, 0.0091],\n",
      "        [0.4609, 0.6269, 0.1855, 0.8192],\n",
      "        [0.8533, 0.6049, 0.7859, 0.8326]])\n",
      "\n",
      "\n"
     ]
    }
   ],
   "source": [
    "print(tr.rand(5,4))\n",
    "print('\\n') "
   ]
  },
  {
   "cell_type": "code",
   "execution_count": 16,
   "id": "5a13d203",
   "metadata": {},
   "outputs": [
    {
     "name": "stdout",
     "output_type": "stream",
     "text": [
      "tensor([1.4142])\n",
      "\n",
      "\n"
     ]
    }
   ],
   "source": [
    "print(tr.hypot(tr.tensor([1.]), tr.tensor([1.])))\n",
    "print('\\n') "
   ]
  },
  {
   "cell_type": "code",
   "execution_count": null,
   "id": "f737de53",
   "metadata": {},
   "outputs": [],
   "source": []
  }
 ],
 "metadata": {
  "kernelspec": {
   "display_name": "Python 3",
   "language": "python",
   "name": "python3"
  },
  "language_info": {
   "codemirror_mode": {
    "name": "ipython",
    "version": 3
   },
   "file_extension": ".py",
   "mimetype": "text/x-python",
   "name": "python",
   "nbconvert_exporter": "python",
   "pygments_lexer": "ipython3",
   "version": "3.6.9"
  }
 },
 "nbformat": 4,
 "nbformat_minor": 5
}
